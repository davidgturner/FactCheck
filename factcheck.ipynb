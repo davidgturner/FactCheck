{
 "cells": [
  {
   "cell_type": "code",
   "execution_count": 1,
   "metadata": {},
   "outputs": [
    {
     "name": "stderr",
     "output_type": "stream",
     "text": [
      "[nltk_data] Downloading package stopwords to\n",
      "[nltk_data]     C:\\Users\\dgturner01\\AppData\\Roaming\\nltk_data...\n",
      "[nltk_data]   Package stopwords is already up-to-date!\n",
      "[nltk_data] Downloading package punkt to\n",
      "[nltk_data]     C:\\Users\\dgturner01\\AppData\\Roaming\\nltk_data...\n",
      "[nltk_data]   Package punkt is already up-to-date!\n",
      "[nltk_data] Downloading package averaged_perceptron_tagger to\n",
      "[nltk_data]     C:\\Users\\dgturner01\\AppData\\Roaming\\nltk_data...\n",
      "[nltk_data]   Package averaged_perceptron_tagger is already up-to-\n",
      "[nltk_data]       date!\n",
      "Special tokens have been added in the vocabulary, make sure the associated word embeddings are fine-tuned or trained.\n",
      "c:\\Projects\\FactCheck\\factcheck_venv\\lib\\site-packages\\transformers\\convert_slow_tokenizer.py:473: UserWarning: The sentencepiece tokenizer that you are converting to a fast tokenizer uses the byte fallback option which is not implemented in the fast tokenizers. In practice this means that the fast version of the tokenizer can produce unknown tokens whereas the sentencepiece version would have converted these unknown tokens into a sequence of byte tokens matching the original piece of text.\n",
      "  warnings.warn(\n",
      "Special tokens have been added in the vocabulary, make sure the associated word embeddings are fine-tuned or trained.\n"
     ]
    },
    {
     "name": "stdout",
     "output_type": "stream",
     "text": [
      "Tokenizer Algorithm: DebertaV2TokenizerFast\n",
      "Special Tokens:\n",
      "  Start Token (BOS): '[CLS]' (ID: 1)\n",
      "  End Token (EOS): '[SEP]' (ID: 2)\n",
      "  Unknown Token (UNK): '[UNK]' (ID: 3)\n",
      "  Padding Token (PAD): '[PAD]' (ID: 0)\n",
      "  Mask Token (MASK): '[MASK]' (ID: 128000)\n",
      "Vocabulary Size: 128000\n",
      "Model Max Length: 512\n",
      "Is Lowercase: False\n"
     ]
    }
   ],
   "source": [
    "# a function to grab a single fact from json file\n",
    "import json\n",
    "from transformers import AutoTokenizer, AutoModelForSequenceClassification\n",
    "from factcheck import EntailmentFactChecker, EntailmentModel \n",
    "\n",
    "# Initialize the EntailmentFactChecker\n",
    "model_name = \"MoritzLaurer/DeBERTa-v3-base-mnli-fever-anli\"\n",
    "ent_tokenizer = AutoTokenizer.from_pretrained(model_name)\n",
    "tokenizer = ent_tokenizer\n",
    "roberta_ent_model = AutoModelForSequenceClassification.from_pretrained(model_name)\n",
    "ent_model = EntailmentModel(roberta_ent_model, ent_tokenizer)\n",
    "fact_checker = EntailmentFactChecker(ent_model)\n",
    "\n",
    "# Print out details about the tokenizer\n",
    "print(\"Tokenizer Algorithm:\", tokenizer.__class__.__name__)\n",
    "print(\"Special Tokens:\")\n",
    "print(\"  Start Token (BOS): '{}' (ID: {})\".format(tokenizer.bos_token, tokenizer.bos_token_id))\n",
    "print(\"  End Token (EOS): '{}' (ID: {})\".format(tokenizer.eos_token, tokenizer.eos_token_id))\n",
    "print(\"  Unknown Token (UNK): '{}' (ID: {})\".format(tokenizer.unk_token, tokenizer.unk_token_id))\n",
    "print(\"  Padding Token (PAD): '{}' (ID: {})\".format(tokenizer.pad_token, tokenizer.pad_token_id))\n",
    "print(\"  Mask Token (MASK): '{}' (ID: {})\".format(tokenizer.mask_token, tokenizer.mask_token_id))\n",
    "print(\"Vocabulary Size:\", tokenizer.vocab_size)\n",
    "print(\"Model Max Length:\", tokenizer.model_max_length)\n",
    "print(\"Is Lowercase:\", tokenizer.do_lower_case if hasattr(tokenizer, \"do_lower_case\") else \"Not Applicable\")\n",
    "\n",
    "# # If you want to see more attributes, you can print out the tokenizer's configuration\n",
    "# print(\"\\nTokenizer Configuration:\")\n",
    "# print(tokenizer.config)\n"
   ]
  },
  {
   "cell_type": "code",
   "execution_count": 2,
   "metadata": {},
   "outputs": [],
   "source": [
    "def test_fact_from_file(file_path, fact_name):\n",
    "    with open(file_path, 'r') as file:\n",
    "        lines = file.readlines()\n",
    "        data = [json.loads(line) for line in lines]\n",
    "        \n",
    "    # Search for the fact based on the \"sent\" field\n",
    "    fact_data = next((entry for entry in data if entry['sent'] == fact_name), None)\n",
    "    \n",
    "    if not fact_data:\n",
    "        print(f\"Error: No fact found with name '{fact_name}'.\")\n",
    "        return\n",
    "    \n",
    "    fact = fact_data['sent']\n",
    "    passages = fact_data['passages']\n",
    "    \n",
    "    result = fact_checker.check_fact(fact_checker.clean_text(fact), passages)\n",
    "\n",
    "    # Append the original passages and sentences to the result\n",
    "    result['original_passages'] = passages\n",
    "\n",
    "    return result"
   ]
  },
  {
   "cell_type": "code",
   "execution_count": 6,
   "metadata": {},
   "outputs": [
    {
     "data": {
      "text/html": [
       "\n",
       "<style>\n",
       "    pre {\n",
       "        white-space: pre-wrap;\n",
       "    }\n",
       "</style>\n"
      ],
      "text/plain": [
       "<IPython.core.display.HTML object>"
      ]
     },
     "metadata": {},
     "output_type": "display_data"
    },
    {
     "name": "stdout",
     "output_type": "stream",
     "text": [
      "tokens for fact:  ['▁Haag', 'ensen', '▁later', '▁transitioned', '▁to', '▁film', '.']\n",
      "back to text:  Haagensen later transitioned to film.\n"
     ]
    },
    {
     "data": {
      "text/html": [
       "<pre>{\n",
       "    &quot;decision&quot;: &quot;NS&quot;,\n",
       "    &quot;max_entailment_score&quot;: 0.16040515899658203,\n",
       "    &quot;most_entailing_sentence&quot;: &quot;ro\\&quot;.&lt;/s&gt;&lt;s&gt;Filmography (partial). The director&#x27;s name is listed in parenthesis. - 2000 - \\&quot;Palace II\\&quot; - Short - (Fernando Meirelles and K\\u00e1tia Lund) - 2002 - \\&quot;City of God (Cidade de Deus)\\&quot; - (Fernando Meirelles and K\\u00e1tia Lund) - 2002 - \\&quot;Seja o que Deus Quiser\\&quot; - (Murilo Salles) - 2004 - \\&quot;Four for None (O Diabo a Quatro)\\&quot; - (Alice de Andrade) - 2002/05 - \\&quot;City of Men (Cidade dos Homens)\\&quot; - TV series - (Fernando Meirelles, K\\u00e1tia Lund, Paulo Morelli, Cao Hamburger and others) - 2006 - \\&quot;The Samba Poet (Noel - Poeta da Vila)\\&quot; - (Ricardo Van Steen) - 2007 - \\&quot;City of Men (Cidade dos Homens)\\&quot; - (Paulo Morelli) - 2008 - \\&quot;Embarque Imediato\\&quot; - (Allan Fiterman) - 2018 - \\&quot;O Mecanismo\\&quot; - (Jos\\u00e9 Padilha) - 2020 - \\&quot;Omn&quot;,\n",
       "    &quot;max_contradiction_score&quot;: 0.6716562509536743,\n",
       "    &quot;most_contradicting_sentence&quot;: &quot;iscient\\&quot;&lt;/s&gt;&lt;s&gt;Discography. - (Haagensen is part of the hip hop group, including actors Marcello Melo Jr. and Roberta Rodrigues.)&lt;/s&gt;&quot;,\n",
       "    &quot;clean_total_full_passage_text&quot;: &quot;Jonathan Haagensen Jonathan Haagensen Cerqueira (born February 23, 1983) is a Brazilian actor, model, and singer.Life and career. A resident of the Vidigal community since his birth, he has Norwegian ancestry from his father, who has not seen since he was six years old. \\&quot;I never knew anything about my father. I only know that he lives in Vitria, the capital city of the state of Esprito Santo,\\&quot; he says. Haagensen appeared in the film \\&quot;City of God\\&quot;, by Fernando Meireles and Ktia Lund, as did his brother, Phellipe Haagensen, also an actor. He was discovered in the Vidigal&#x27;s theatrical company \\&quot;Ns do Morro\\&quot;. He has participated, as a model, in the Fashion Rio event, campaigning for Dolce &amp; Gabbana and worked in promotional events for the NBA. He participated in the reality show \\&quot;A Fazenda\\&quot;, from TV Record. Haagensen portrayed Dodo in \\&quot;Da Cor do Pecado\\&quot; and Cludio in \\&quot;Paraso Tropical\\&quot;. He is also member of the hip hop music group composed of members of \\&quot;Ns do Morro\\&quot;.Filmography (partial). The director&#x27;s name is listed in parenthesis. - 2000 - \\&quot;Palace II\\&quot; - Short - (Fernando Meirelles and Ktia Lund) - 2002 - \\&quot;City of God (Cidade de Deus)\\&quot; - (Fernando Meirelles and Ktia Lund) - 2002 - \\&quot;Seja o que Deus Quiser\\&quot; - (Murilo Salles) - 2004 - \\&quot;Four for None (O Diabo a Quatro)\\&quot; - (Alice de Andrade) - 2002/05 - \\&quot;City of Men (Cidade dos Homens)\\&quot; - TV series - (Fernando Meirelles, Ktia Lund, Paulo Morelli, Cao Hamburger and others) - 2006 - \\&quot;The Samba Poet (Noel - Poeta da Vila)\\&quot; - (Ricardo Van Steen) - 2007 - \\&quot;City of Men (Cidade dos Homens)\\&quot; - (Paulo Morelli) - 2008 - \\&quot;Embarque Imediato\\&quot; - (Allan Fiterman) - 2018 - \\&quot;O Mecanismo\\&quot; - (Jos Padilha) - 2020 - \\&quot;Omniscient\\&quot;Discography. - (Haagensen is part of the hip hop group, including actors Marcello Melo Jr. and Roberta Rodrigues.)&quot;,\n",
       "    &quot;og_passages&quot;: [\n",
       "        {\n",
       "            &quot;title&quot;: &quot;Jonathan Haagensen&quot;,\n",
       "            &quot;text&quot;: &quot;&lt;s&gt;Jonathan Haagensen Jonathan Haagensen Cerqueira (born February 23, 1983) is a Brazilian actor, model, and singer.&lt;/s&gt;&lt;s&gt;Life and career. A resident of the Vidigal community since his birth, he has Norwegian ancestry from his father, who has not seen since he was six years old. \\&quot;I never knew anything about my father. I only know that he lives in Vit\\u00f3ria, the capital city of the state of Esp\\u00edrito Santo,\\&quot; he says. Haagensen appeared in the film \\&quot;City of God\\&quot;, by Fernando Meireles and K\\u00e1tia Lund, as did his brother, Phellipe Haagensen, also an actor. He was discovered in the Vidigal&#x27;s theatrical company \\&quot;N\\u00f3s do Morro\\&quot;. He has participated, as a model, in the Fashion Rio event, campaigning for Dolce &amp; Gabbana and worked in promotional events for the NBA. He participated in the reality show \\&quot;A Fazenda\\&quot;, from TV Record. Haagensen portrayed Dodo in \\&quot;Da Cor do Pecado\\&quot; and Cl\\u00e1udio in \\&quot;Para\\u00edso Tropical\\&quot;. He is also member of the hip hop music group composed of members of \\&quot;N\\u00f3s do Mor&quot;\n",
       "        },\n",
       "        {\n",
       "            &quot;title&quot;: &quot;Jonathan Haagensen&quot;,\n",
       "            &quot;text&quot;: &quot;ro\\&quot;.&lt;/s&gt;&lt;s&gt;Filmography (partial). The director&#x27;s name is listed in parenthesis. - 2000 - \\&quot;Palace II\\&quot; - Short - (Fernando Meirelles and K\\u00e1tia Lund) - 2002 - \\&quot;City of God (Cidade de Deus)\\&quot; - (Fernando Meirelles and K\\u00e1tia Lund) - 2002 - \\&quot;Seja o que Deus Quiser\\&quot; - (Murilo Salles) - 2004 - \\&quot;Four for None (O Diabo a Quatro)\\&quot; - (Alice de Andrade) - 2002/05 - \\&quot;City of Men (Cidade dos Homens)\\&quot; - TV series - (Fernando Meirelles, K\\u00e1tia Lund, Paulo Morelli, Cao Hamburger and others) - 2006 - \\&quot;The Samba Poet (Noel - Poeta da Vila)\\&quot; - (Ricardo Van Steen) - 2007 - \\&quot;City of Men (Cidade dos Homens)\\&quot; - (Paulo Morelli) - 2008 - \\&quot;Embarque Imediato\\&quot; - (Allan Fiterman) - 2018 - \\&quot;O Mecanismo\\&quot; - (Jos\\u00e9 Padilha) - 2020 - \\&quot;Omn&quot;\n",
       "        },\n",
       "        {\n",
       "            &quot;title&quot;: &quot;Jonathan Haagensen&quot;,\n",
       "            &quot;text&quot;: &quot;iscient\\&quot;&lt;/s&gt;&lt;s&gt;Discography. - (Haagensen is part of the hip hop group, including actors Marcello Melo Jr. and Roberta Rodrigues.)&lt;/s&gt;&quot;\n",
       "        }\n",
       "    ],\n",
       "    &quot;original_passages&quot;: [\n",
       "        {\n",
       "            &quot;title&quot;: &quot;Jonathan Haagensen&quot;,\n",
       "            &quot;text&quot;: &quot;&lt;s&gt;Jonathan Haagensen Jonathan Haagensen Cerqueira (born February 23, 1983) is a Brazilian actor, model, and singer.&lt;/s&gt;&lt;s&gt;Life and career. A resident of the Vidigal community since his birth, he has Norwegian ancestry from his father, who has not seen since he was six years old. \\&quot;I never knew anything about my father. I only know that he lives in Vit\\u00f3ria, the capital city of the state of Esp\\u00edrito Santo,\\&quot; he says. Haagensen appeared in the film \\&quot;City of God\\&quot;, by Fernando Meireles and K\\u00e1tia Lund, as did his brother, Phellipe Haagensen, also an actor. He was discovered in the Vidigal&#x27;s theatrical company \\&quot;N\\u00f3s do Morro\\&quot;. He has participated, as a model, in the Fashion Rio event, campaigning for Dolce &amp; Gabbana and worked in promotional events for the NBA. He participated in the reality show \\&quot;A Fazenda\\&quot;, from TV Record. Haagensen portrayed Dodo in \\&quot;Da Cor do Pecado\\&quot; and Cl\\u00e1udio in \\&quot;Para\\u00edso Tropical\\&quot;. He is also member of the hip hop music group composed of members of \\&quot;N\\u00f3s do Mor&quot;\n",
       "        },\n",
       "        {\n",
       "            &quot;title&quot;: &quot;Jonathan Haagensen&quot;,\n",
       "            &quot;text&quot;: &quot;ro\\&quot;.&lt;/s&gt;&lt;s&gt;Filmography (partial). The director&#x27;s name is listed in parenthesis. - 2000 - \\&quot;Palace II\\&quot; - Short - (Fernando Meirelles and K\\u00e1tia Lund) - 2002 - \\&quot;City of God (Cidade de Deus)\\&quot; - (Fernando Meirelles and K\\u00e1tia Lund) - 2002 - \\&quot;Seja o que Deus Quiser\\&quot; - (Murilo Salles) - 2004 - \\&quot;Four for None (O Diabo a Quatro)\\&quot; - (Alice de Andrade) - 2002/05 - \\&quot;City of Men (Cidade dos Homens)\\&quot; - TV series - (Fernando Meirelles, K\\u00e1tia Lund, Paulo Morelli, Cao Hamburger and others) - 2006 - \\&quot;The Samba Poet (Noel - Poeta da Vila)\\&quot; - (Ricardo Van Steen) - 2007 - \\&quot;City of Men (Cidade dos Homens)\\&quot; - (Paulo Morelli) - 2008 - \\&quot;Embarque Imediato\\&quot; - (Allan Fiterman) - 2018 - \\&quot;O Mecanismo\\&quot; - (Jos\\u00e9 Padilha) - 2020 - \\&quot;Omn&quot;\n",
       "        },\n",
       "        {\n",
       "            &quot;title&quot;: &quot;Jonathan Haagensen&quot;,\n",
       "            &quot;text&quot;: &quot;iscient\\&quot;&lt;/s&gt;&lt;s&gt;Discography. - (Haagensen is part of the hip hop group, including actors Marcello Melo Jr. and Roberta Rodrigues.)&lt;/s&gt;&quot;\n",
       "        }\n",
       "    ]\n",
       "}</pre>"
      ],
      "text/plain": [
       "<IPython.core.display.HTML object>"
      ]
     },
     "metadata": {},
     "output_type": "display_data"
    }
   ],
   "source": [
    "import html\n",
    "import json\n",
    "from IPython.display import display, HTML\n",
    "\n",
    "# Custom CSS to enable word wrapping for <pre> tags\n",
    "custom_css = \"\"\"\n",
    "<style>\n",
    "    pre {\n",
    "        white-space: pre-wrap;\n",
    "    }\n",
    "</style>\n",
    "\"\"\"\n",
    "\n",
    "display(HTML(custom_css))\n",
    "\n",
    "def display_json(data):\n",
    "    formatted_json = html.escape(json.dumps(data, indent=4))\n",
    "    display(HTML(f\"<pre>{formatted_json}</pre>\"))\n",
    "\n",
    "# for interactive fact testing\n",
    "file_path = \"data/passages_bm25_ChatGPT_humfacts.jsonl\"\n",
    "fact_name = \"Haagensen later transitioned to film.\"\n",
    "tokens = ent_tokenizer.tokenize(fact_name)\n",
    "print(\"tokens for fact: \", tokens)\n",
    "\n",
    "back_to_text = ent_tokenizer.convert_tokens_to_string(tokens)\n",
    "print(\"back to text: \", back_to_text)\n",
    "\n",
    "#t = 0.60\n",
    "result = test_fact_from_file(file_path, fact_name)\n",
    "display_json(result)\n"
   ]
  },
  {
   "cell_type": "markdown",
   "metadata": {},
   "source": [
    "## TESTING SINGLE PASSAGE"
   ]
  },
  {
   "cell_type": "code",
   "execution_count": 4,
   "metadata": {},
   "outputs": [
    {
     "name": "stdout",
     "output_type": "stream",
     "text": [
      "Results=  [0.10194315016269684, 0.8856976628303528, 0.01235916931182146]\n"
     ]
    }
   ],
   "source": [
    "file_path = \"data/passages_bm25_ChatGPT_humfacts.jsonl\"\n",
    "fact_name = \"Florencia Bertotti is a singer.\"\n",
    "passage_text = \"\"\"\n",
    "<s>Florencia Bertotti Mar\\u00eda Florencia Bertotti (born 15 March 1983), better known as Florencia Bertotti is an Argentine actress, singer, songwriter and businesswoman.</s><s>Biography. Florencia Bertotti parents are Gustavo Bertotti, a jeweler and Mar\\u00eda Candelaria P\\u00e9rez Colman, a psychologist and a teacher of children with disabilities. Her parents divorced when Florencia was seven years old. She has an older sister called Clara Bertotti. Her father passed away in 1999 when she was filming the series \\\"Verano del '98\\\". Florencia studied at the Colegio Nuestra Se\\u00f1ora de la Misericordia in Recoleta, Buenos Aires, Argentina.</s><s>Personal life. On 2 December 2006 she got married in a religious ceremony with Guido Kaczka, whom she met in the recordings of \\\"Verano del '98\\\" and who was her boyfriend since then. On 10 July 2008, she gave birth to the couple's first child, a boy, whom they called Romeo Kaczka Bertottia.The couple divorced in March 2010. They both share custody of their son. Since 2010, Florencia Bertotti\n",
    "\"\"\"\n",
    "\n",
    "results_list = ent_model.check_entailment(fact_name, passage_text)\n",
    "print(\"Results= \", results_list)\n"
   ]
  },
  {
   "cell_type": "markdown",
   "metadata": {},
   "source": [
    "## TESTING CLEAN_TEXT"
   ]
  },
  {
   "cell_type": "code",
   "execution_count": 5,
   "metadata": {},
   "outputs": [
    {
     "name": "stdout",
     "output_type": "stream",
     "text": [
      "og text  Jessica Barboza is a beauty queen.\n",
      "text_clean  Jessica Barboza is a beauty queen.\n"
     ]
    }
   ],
   "source": [
    "fact_text = \"Jessica Barboza is a beauty queen.\"\n",
    "text_clean = fact_checker.clean_text(fact_text)\n",
    "\n",
    "print(\"og text \", fact_text)\n",
    "\n",
    "print(\"text_clean \", text_clean)\n",
    "\n",
    "# tokens = tokenizer.tokenize(fact_text)\n",
    "# token_ids = tokenizer.convert_tokens_to_ids(tokens)\n",
    "# print(token_ids)\n",
    "\n",
    "# print(\"Unknown Token \", tokenizer.unk_token_id)"
   ]
  }
 ],
 "metadata": {
  "kernelspec": {
   "display_name": "Python 3 (ipykernel)",
   "language": "python",
   "name": "python3"
  },
  "language_info": {
   "codemirror_mode": {
    "name": "ipython",
    "version": 3
   },
   "file_extension": ".py",
   "mimetype": "text/x-python",
   "name": "python",
   "nbconvert_exporter": "python",
   "pygments_lexer": "ipython3",
   "version": "3.9.13"
  }
 },
 "nbformat": 4,
 "nbformat_minor": 4
}
