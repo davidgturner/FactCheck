{
 "cells": [
  {
   "cell_type": "code",
   "execution_count": 1,
   "metadata": {},
   "outputs": [
    {
     "name": "stderr",
     "output_type": "stream",
     "text": [
      "[nltk_data] Downloading package stopwords to\n",
      "[nltk_data]     C:\\Users\\dgturner01\\AppData\\Roaming\\nltk_data...\n",
      "[nltk_data]   Package stopwords is already up-to-date!\n",
      "[nltk_data] Downloading package punkt to\n",
      "[nltk_data]     C:\\Users\\dgturner01\\AppData\\Roaming\\nltk_data...\n",
      "[nltk_data]   Package punkt is already up-to-date!\n",
      "[nltk_data] Downloading package averaged_perceptron_tagger to\n",
      "[nltk_data]     C:\\Users\\dgturner01\\AppData\\Roaming\\nltk_data...\n",
      "[nltk_data]   Package averaged_perceptron_tagger is already up-to-\n",
      "[nltk_data]       date!\n",
      "Special tokens have been added in the vocabulary, make sure the associated word embeddings are fine-tuned or trained.\n",
      "c:\\Projects\\FactCheck\\factcheck_venv\\lib\\site-packages\\transformers\\convert_slow_tokenizer.py:473: UserWarning: The sentencepiece tokenizer that you are converting to a fast tokenizer uses the byte fallback option which is not implemented in the fast tokenizers. In practice this means that the fast version of the tokenizer can produce unknown tokens whereas the sentencepiece version would have converted these unknown tokens into a sequence of byte tokens matching the original piece of text.\n",
      "  warnings.warn(\n",
      "Special tokens have been added in the vocabulary, make sure the associated word embeddings are fine-tuned or trained.\n"
     ]
    },
    {
     "name": "stdout",
     "output_type": "stream",
     "text": [
      "Tokenizer Algorithm: DebertaV2TokenizerFast\n",
      "Special Tokens:\n",
      "  Start Token (BOS): '[CLS]' (ID: 1)\n",
      "  End Token (EOS): '[SEP]' (ID: 2)\n",
      "  Unknown Token (UNK): '[UNK]' (ID: 3)\n",
      "  Padding Token (PAD): '[PAD]' (ID: 0)\n",
      "  Mask Token (MASK): '[MASK]' (ID: 128000)\n",
      "Vocabulary Size: 128000\n",
      "Model Max Length: 512\n",
      "Is Lowercase: False\n"
     ]
    }
   ],
   "source": [
    "# a function to grab a single fact from json file\n",
    "import json\n",
    "from transformers import AutoTokenizer, AutoModelForSequenceClassification\n",
    "from factcheck import EntailmentFactChecker, EntailmentModel \n",
    "\n",
    "# Initialize the EntailmentFactChecker\n",
    "model_name = \"MoritzLaurer/DeBERTa-v3-base-mnli-fever-anli\"\n",
    "ent_tokenizer = AutoTokenizer.from_pretrained(model_name)\n",
    "tokenizer = ent_tokenizer\n",
    "roberta_ent_model = AutoModelForSequenceClassification.from_pretrained(model_name)\n",
    "ent_model = EntailmentModel(roberta_ent_model, ent_tokenizer)\n",
    "fact_checker = EntailmentFactChecker(ent_model)\n",
    "\n",
    "# Print out details about the tokenizer\n",
    "print(\"Tokenizer Algorithm:\", tokenizer.__class__.__name__)\n",
    "print(\"Special Tokens:\")\n",
    "print(\"  Start Token (BOS): '{}' (ID: {})\".format(tokenizer.bos_token, tokenizer.bos_token_id))\n",
    "print(\"  End Token (EOS): '{}' (ID: {})\".format(tokenizer.eos_token, tokenizer.eos_token_id))\n",
    "print(\"  Unknown Token (UNK): '{}' (ID: {})\".format(tokenizer.unk_token, tokenizer.unk_token_id))\n",
    "print(\"  Padding Token (PAD): '{}' (ID: {})\".format(tokenizer.pad_token, tokenizer.pad_token_id))\n",
    "print(\"  Mask Token (MASK): '{}' (ID: {})\".format(tokenizer.mask_token, tokenizer.mask_token_id))\n",
    "print(\"Vocabulary Size:\", tokenizer.vocab_size)\n",
    "print(\"Model Max Length:\", tokenizer.model_max_length)\n",
    "print(\"Is Lowercase:\", tokenizer.do_lower_case if hasattr(tokenizer, \"do_lower_case\") else \"Not Applicable\")\n",
    "\n",
    "# # If you want to see more attributes, you can print out the tokenizer's configuration\n",
    "# print(\"\\nTokenizer Configuration:\")\n",
    "# print(tokenizer.config)\n"
   ]
  },
  {
   "cell_type": "code",
   "execution_count": 2,
   "metadata": {},
   "outputs": [],
   "source": [
    "def test_fact_from_file(file_path, fact_name):\n",
    "    with open(file_path, 'r') as file:\n",
    "        lines = file.readlines()\n",
    "        data = [json.loads(line) for line in lines]\n",
    "        \n",
    "    # Search for the fact based on the \"sent\" field\n",
    "    fact_data = next((entry for entry in data if entry['sent'] == fact_name), None)\n",
    "    \n",
    "    if not fact_data:\n",
    "        print(f\"Error: No fact found with name '{fact_name}'.\")\n",
    "        return\n",
    "    \n",
    "    fact = fact_data['sent']\n",
    "    passages = fact_data['passages']\n",
    "    \n",
    "    result = fact_checker.check_fact(fact_checker.clean_text(fact), passages)\n",
    "\n",
    "    # Append the original passages and sentences to the result\n",
    "    result['original_passages'] = passages\n",
    "\n",
    "    return result"
   ]
  },
  {
   "cell_type": "code",
   "execution_count": 3,
   "metadata": {},
   "outputs": [
    {
     "data": {
      "text/html": [
       "\n",
       "<style>\n",
       "    pre {\n",
       "        white-space: pre-wrap;\n",
       "    }\n",
       "</style>\n"
      ],
      "text/plain": [
       "<IPython.core.display.HTML object>"
      ]
     },
     "metadata": {},
     "output_type": "display_data"
    },
    {
     "name": "stdout",
     "output_type": "stream",
     "text": [
      "tokens for fact:  ['▁Jessica', '▁Barb', 'oza', '▁is', '▁Venezuelan', '.']\n",
      "back to text:  Jessica Barboza is Venezuelan.\n"
     ]
    },
    {
     "data": {
      "text/html": [
       "<pre>{\n",
       "    &quot;decision&quot;: &quot;S&quot;,\n",
       "    &quot;max_entailment_score&quot;: 0.09793705493211746,\n",
       "    &quot;most_entailing_sentence&quot;: &quot;Jessica Barboza is about Jessica Barboza Jessica Cristina Barboza Schmidt (born in Maracaibo, Venezuela on 14 August 1987) is a Venezuelan model and beauty pageant titleholder who won the titles of Miss Earth Venezuela 2009 and Miss International Venezuela 2010.Sambil Model / Miss Earth Venezuela.&quot;,\n",
       "    &quot;max_contradiction_score&quot;: 0.848582923412323,\n",
       "    &quot;most_contradicting_sentence&quot;: &quot;Barboza competed in 2010 as Miss Distrito Capital in her country&#x27;s national beauty pageant, Miss Venezuela, obtaining the title of \\&quot;Miss International Venezuela\\&quot; on October 28, 2010.Miss International.&quot;,\n",
       "    &quot;evaluated_passages&quot;: [\n",
       "        {\n",
       "            &quot;passage&quot;: {\n",
       "                &quot;Jessica Barboza is about Jessica Barboza Jessica Cristina Barboza Schmidt (born in Maracaibo, Venezuela on 14 August 1987) is a Venezuelan model and beauty pageant titleholder who won the titles of Miss Earth Venezuela 2009 and Miss International Venezuela 2010.Sambil Model / Miss Earth Venezuela.&quot;: &quot;S&quot;,\n",
       "                &quot;Barboza won in 2009 the Sambil Model / Miss Earth Venezuela title in a pageant held in Margarita Island, Venezuela on June 12, 2009.&quot;: &quot;NS&quot;,\n",
       "                &quot;She was crowned by the outgoing titleholder, Mar\\u00eda Daniela Torrealba, Sambil Model / Miss Earth Venezuela 2008.&quot;: &quot;NS&quot;,\n",
       "                &quot;She also competed in Miss Earth Venezuela 2006 but didn&#x27;t place.Miss Earth.&quot;: &quot;NS&quot;,\n",
       "                &quot;As the official representative of her country to the 2009 Miss Earth pageant held in Boracay, Philippines, on November 22, 2009, Barboza competed against 79 other delegates and was designated 2nd runner-up.Miss Venezuela.&quot;: &quot;NS&quot;,\n",
       "                &quot;Barboza competed in 2010 as Miss Distrito Capital in her country&#x27;s national beauty pageant, Miss Venezuela, obtaining the title of \\&quot;Miss International Venezuela\\&quot; on October 28, 2010.Miss International.&quot;: &quot;NS&quot;,\n",
       "                &quot;She represented Venezuela in the 2011 Miss International pageant in Chengdu, China in November 6, 2011.&quot;: &quot;NS&quot;,\n",
       "                &quot;During the Miss International 2011 final, Jessica Bar&quot;: &quot;NS&quot;\n",
       "            },\n",
       "            &quot;passage_eval_result&quot;: &quot;S&quot;\n",
       "        },\n",
       "        {\n",
       "            &quot;passage&quot;: {\n",
       "                &quot;Jessica Barboza is about boza was announced as the 1st Runner-Up.Personal life.&quot;: &quot;NS&quot;,\n",
       "                &quot;She currently resides in Panama with her husband Federico Pauls, with whom she has three children: Benjam\\u00edn and twins Olivia and Chlo\\u00e9.&quot;: &quot;NS&quot;\n",
       "            },\n",
       "            &quot;passage_eval_result&quot;: &quot;NS&quot;\n",
       "        }\n",
       "    ],\n",
       "    &quot;original_passages&quot;: [\n",
       "        {\n",
       "            &quot;title&quot;: &quot;Jessica Barboza&quot;,\n",
       "            &quot;text&quot;: &quot;&lt;s&gt;Jessica Barboza Jessica Cristina Barboza Schmidt (born in Maracaibo, Venezuela on 14 August 1987) is a Venezuelan model and beauty pageant titleholder who won the titles of Miss Earth Venezuela 2009 and Miss International Venezuela 2010.&lt;/s&gt;&lt;s&gt;Sambil Model / Miss Earth Venezuela. Barboza won in 2009 the Sambil Model / Miss Earth Venezuela title in a pageant held in Margarita Island, Venezuela on June 12, 2009. She was crowned by the outgoing titleholder, Mar\\u00eda Daniela Torrealba, Sambil Model / Miss Earth Venezuela 2008. She also competed in Miss Earth Venezuela 2006 but didn&#x27;t place.&lt;/s&gt;&lt;s&gt;Miss Earth. As the official representative of her country to the 2009 Miss Earth pageant held in Boracay, Philippines, on November 22, 2009, Barboza competed against 79 other delegates and was designated 2nd runner-up.&lt;/s&gt;&lt;s&gt;Miss Venezuela. Barboza competed in 2010 as Miss Distrito Capital in her country&#x27;s national beauty pageant, Miss Venezuela, obtaining the title of \\&quot;Miss International Venezuela\\&quot; on October 28, 2010.&lt;/s&gt;&lt;s&gt;Miss International. She represented Venezuela in the 2011 Miss International pageant in Chengdu, China in November 6, 2011. During the Miss International 2011 final, Jessica Bar&quot;\n",
       "        },\n",
       "        {\n",
       "            &quot;title&quot;: &quot;Jessica Barboza&quot;,\n",
       "            &quot;text&quot;: &quot;boza was announced as the 1st Runner-Up.&lt;/s&gt;&lt;s&gt;Personal life. She currently resides in Panama with her husband Federico Pauls, with whom she has three children: Benjam\\u00edn and twins Olivia and Chlo\\u00e9.&lt;/s&gt;&quot;\n",
       "        }\n",
       "    ]\n",
       "}</pre>"
      ],
      "text/plain": [
       "<IPython.core.display.HTML object>"
      ]
     },
     "metadata": {},
     "output_type": "display_data"
    }
   ],
   "source": [
    "import html\n",
    "import json\n",
    "from IPython.display import display, HTML\n",
    "\n",
    "# Custom CSS to enable word wrapping for <pre> tags\n",
    "custom_css = \"\"\"\n",
    "<style>\n",
    "    pre {\n",
    "        white-space: pre-wrap;\n",
    "    }\n",
    "</style>\n",
    "\"\"\"\n",
    "\n",
    "display(HTML(custom_css))\n",
    "\n",
    "def display_json(data):\n",
    "    formatted_json = html.escape(json.dumps(data, indent=4))\n",
    "    display(HTML(f\"<pre>{formatted_json}</pre>\"))\n",
    "\n",
    "# for interactive fact testing\n",
    "file_path = \"data/passages_bm25_ChatGPT_humfacts.jsonl\"\n",
    "fact_name = \"Jessica Barboza is Venezuelan.\"\n",
    "tokens = ent_tokenizer.tokenize(fact_name)\n",
    "print(\"tokens for fact: \", tokens)\n",
    "\n",
    "back_to_text = ent_tokenizer.convert_tokens_to_string(tokens)\n",
    "print(\"back to text: \", back_to_text)\n",
    "\n",
    "#t = 0.60\n",
    "result = test_fact_from_file(file_path, fact_name)\n",
    "display_json(result)\n"
   ]
  },
  {
   "cell_type": "markdown",
   "metadata": {},
   "source": [
    "## TESTING SINGLE PASSAGE"
   ]
  },
  {
   "cell_type": "code",
   "execution_count": 4,
   "metadata": {},
   "outputs": [
    {
     "name": "stdout",
     "output_type": "stream",
     "text": [
      "Results=  [0.10194315016269684, 0.8856976628303528, 0.01235916931182146]\n"
     ]
    }
   ],
   "source": [
    "file_path = \"data/passages_bm25_ChatGPT_humfacts.jsonl\"\n",
    "fact_name = \"Florencia Bertotti is a singer.\"\n",
    "passage_text = \"\"\"\n",
    "<s>Florencia Bertotti Mar\\u00eda Florencia Bertotti (born 15 March 1983), better known as Florencia Bertotti is an Argentine actress, singer, songwriter and businesswoman.</s><s>Biography. Florencia Bertotti parents are Gustavo Bertotti, a jeweler and Mar\\u00eda Candelaria P\\u00e9rez Colman, a psychologist and a teacher of children with disabilities. Her parents divorced when Florencia was seven years old. She has an older sister called Clara Bertotti. Her father passed away in 1999 when she was filming the series \\\"Verano del '98\\\". Florencia studied at the Colegio Nuestra Se\\u00f1ora de la Misericordia in Recoleta, Buenos Aires, Argentina.</s><s>Personal life. On 2 December 2006 she got married in a religious ceremony with Guido Kaczka, whom she met in the recordings of \\\"Verano del '98\\\" and who was her boyfriend since then. On 10 July 2008, she gave birth to the couple's first child, a boy, whom they called Romeo Kaczka Bertottia.The couple divorced in March 2010. They both share custody of their son. Since 2010, Florencia Bertotti\n",
    "\"\"\"\n",
    "\n",
    "results_list = ent_model.check_entailment(fact_name, passage_text)\n",
    "print(\"Results= \", results_list)\n"
   ]
  },
  {
   "cell_type": "markdown",
   "metadata": {},
   "source": [
    "## TESTING CLEAN_TEXT"
   ]
  },
  {
   "cell_type": "code",
   "execution_count": 5,
   "metadata": {},
   "outputs": [
    {
     "name": "stdout",
     "output_type": "stream",
     "text": [
      "og text  Jessica Barboza is a beauty queen.\n",
      "text_clean  Jessica Barboza is a beauty queen.\n"
     ]
    }
   ],
   "source": [
    "fact_text = \"Jessica Barboza is a beauty queen.\"\n",
    "text_clean = fact_checker.clean_text(fact_text)\n",
    "\n",
    "print(\"og text \", fact_text)\n",
    "\n",
    "print(\"text_clean \", text_clean)\n",
    "\n",
    "# tokens = tokenizer.tokenize(fact_text)\n",
    "# token_ids = tokenizer.convert_tokens_to_ids(tokens)\n",
    "# print(token_ids)\n",
    "\n",
    "# print(\"Unknown Token \", tokenizer.unk_token_id)"
   ]
  }
 ],
 "metadata": {
  "kernelspec": {
   "display_name": "Python 3 (ipykernel)",
   "language": "python",
   "name": "python3"
  },
  "language_info": {
   "codemirror_mode": {
    "name": "ipython",
    "version": 3
   },
   "file_extension": ".py",
   "mimetype": "text/x-python",
   "name": "python",
   "nbconvert_exporter": "python",
   "pygments_lexer": "ipython3",
   "version": "3.9.13"
  }
 },
 "nbformat": 4,
 "nbformat_minor": 4
}
