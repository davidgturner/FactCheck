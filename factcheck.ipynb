{
 "cells": [
  {
   "cell_type": "code",
   "execution_count": 1,
   "metadata": {},
   "outputs": [
    {
     "name": "stderr",
     "output_type": "stream",
     "text": [
      "[nltk_data] Downloading package stopwords to\n",
      "[nltk_data]     C:\\Users\\dgturner01\\AppData\\Roaming\\nltk_data...\n",
      "[nltk_data]   Package stopwords is already up-to-date!\n",
      "[nltk_data] Downloading package punkt to\n",
      "[nltk_data]     C:\\Users\\dgturner01\\AppData\\Roaming\\nltk_data...\n",
      "[nltk_data]   Package punkt is already up-to-date!\n",
      "Special tokens have been added in the vocabulary, make sure the associated word embeddings are fine-tuned or trained.\n",
      "c:\\Projects\\FactCheck\\factcheck_venv\\lib\\site-packages\\transformers\\convert_slow_tokenizer.py:473: UserWarning: The sentencepiece tokenizer that you are converting to a fast tokenizer uses the byte fallback option which is not implemented in the fast tokenizers. In practice this means that the fast version of the tokenizer can produce unknown tokens whereas the sentencepiece version would have converted these unknown tokens into a sequence of byte tokens matching the original piece of text.\n",
      "  warnings.warn(\n",
      "Special tokens have been added in the vocabulary, make sure the associated word embeddings are fine-tuned or trained.\n"
     ]
    },
    {
     "name": "stdout",
     "output_type": "stream",
     "text": [
      "512\n"
     ]
    }
   ],
   "source": [
    "# a function to grab a single fact from json file\n",
    "import json\n",
    "from transformers import AutoTokenizer, AutoModelForSequenceClassification\n",
    "from factcheck import EntailmentFactChecker, EntailmentModel \n",
    "from transformers import AutoConfig\n",
    "\n",
    "# Initialize the EntailmentFactChecker\n",
    "model_name = \"MoritzLaurer/DeBERTa-v3-base-mnli-fever-anli\"\n",
    "ent_tokenizer = AutoTokenizer.from_pretrained(model_name)\n",
    "roberta_ent_model = AutoModelForSequenceClassification.from_pretrained(model_name)\n",
    "ent_model = EntailmentModel(roberta_ent_model, ent_tokenizer)\n",
    "fact_checker = EntailmentFactChecker(ent_model)\n",
    "\n",
    "config = AutoConfig.from_pretrained(model_name)\n",
    "print(config.max_position_embeddings)\n",
    "\n",
    "def test_fact_from_file(file_path, fact_name, threshold):\n",
    "    with open(file_path, 'r') as file:\n",
    "        lines = file.readlines()\n",
    "        data = [json.loads(line) for line in lines]\n",
    "        \n",
    "    # Search for the fact based on the \"sent\" field\n",
    "    fact_data = next((entry for entry in data if entry['sent'] == fact_name), None)\n",
    "    \n",
    "    if not fact_data:\n",
    "        print(f\"Error: No fact found with name '{fact_name}'.\")\n",
    "        return\n",
    "    \n",
    "    fact = fact_data['sent']\n",
    "    passages = fact_data['passages']\n",
    "    \n",
    "    result = fact_checker.check_fact(fact_checker.clean_text(fact), passages, threshold=threshold)\n",
    "\n",
    "    # Append the original passages and sentences to the result\n",
    "    result['original_passages'] = passages\n",
    "\n",
    "    return result\n"
   ]
  },
  {
   "cell_type": "code",
   "execution_count": 3,
   "metadata": {},
   "outputs": [
    {
     "data": {
      "text/html": [
       "\n",
       "<style>\n",
       "    pre {\n",
       "        white-space: pre-wrap;\n",
       "    }\n",
       "</style>\n"
      ],
      "text/plain": [
       "<IPython.core.display.HTML object>"
      ]
     },
     "metadata": {},
     "output_type": "display_data"
    },
    {
     "data": {
      "text/html": [
       "<pre>{\n",
       "    &quot;decision&quot;: &quot;S&quot;,\n",
       "    &quot;max_entailment_score&quot;: 0.8338811993598938,\n",
       "    &quot;most_entailing_sentence&quot;: &quot;&lt;s&gt;Jessica Barboza Jessica Cristina Barboza Schmidt (born in Maracaibo, Venezuela on 14 August 1987) is a Venezuelan model and beauty pageant titleholder who won the titles of Miss Earth Venezuela 2009 and Miss International Venezuela 2010.&lt;/s&gt;&lt;s&gt;Sambil Model / Miss Earth Venezuela.&quot;,\n",
       "    &quot;entailment_prob&quot;: 0.8338811993598938,\n",
       "    &quot;neutral_prob&quot;: 0.8769999742507935,\n",
       "    &quot;contradiction_prob&quot;: 0.012796644121408463,\n",
       "    &quot;original_passages&quot;: [\n",
       "        {\n",
       "            &quot;title&quot;: &quot;Jessica Barboza&quot;,\n",
       "            &quot;text&quot;: &quot;boza was announced as the 1st Runner-Up.&lt;/s&gt;&lt;s&gt;Personal life. She currently resides in Panama with her husband Federico Pauls, with whom she has three children: Benjam\\u00edn and twins Olivia and Chlo\\u00e9.&lt;/s&gt;&quot;\n",
       "        },\n",
       "        {\n",
       "            &quot;title&quot;: &quot;Jessica Barboza&quot;,\n",
       "            &quot;text&quot;: &quot;&lt;s&gt;Jessica Barboza Jessica Cristina Barboza Schmidt (born in Maracaibo, Venezuela on 14 August 1987) is a Venezuelan model and beauty pageant titleholder who won the titles of Miss Earth Venezuela 2009 and Miss International Venezuela 2010.&lt;/s&gt;&lt;s&gt;Sambil Model / Miss Earth Venezuela. Barboza won in 2009 the Sambil Model / Miss Earth Venezuela title in a pageant held in Margarita Island, Venezuela on June 12, 2009. She was crowned by the outgoing titleholder, Mar\\u00eda Daniela Torrealba, Sambil Model / Miss Earth Venezuela 2008. She also competed in Miss Earth Venezuela 2006 but didn&#x27;t place.&lt;/s&gt;&lt;s&gt;Miss Earth. As the official representative of her country to the 2009 Miss Earth pageant held in Boracay, Philippines, on November 22, 2009, Barboza competed against 79 other delegates and was designated 2nd runner-up.&lt;/s&gt;&lt;s&gt;Miss Venezuela. Barboza competed in 2010 as Miss Distrito Capital in her country&#x27;s national beauty pageant, Miss Venezuela, obtaining the title of \\&quot;Miss International Venezuela\\&quot; on October 28, 2010.&lt;/s&gt;&lt;s&gt;Miss International. She represented Venezuela in the 2011 Miss International pageant in Chengdu, China in November 6, 2011. During the Miss International 2011 final, Jessica Bar&quot;\n",
       "        }\n",
       "    ]\n",
       "}</pre>"
      ],
      "text/plain": [
       "<IPython.core.display.HTML object>"
      ]
     },
     "metadata": {},
     "output_type": "display_data"
    }
   ],
   "source": [
    "import html\n",
    "import json\n",
    "from IPython.display import display, HTML\n",
    "\n",
    "# Custom CSS to enable word wrapping for <pre> tags\n",
    "custom_css = \"\"\"\n",
    "<style>\n",
    "    pre {\n",
    "        white-space: pre-wrap;\n",
    "    }\n",
    "</style>\n",
    "\"\"\"\n",
    "\n",
    "display(HTML(custom_css))\n",
    "\n",
    "def display_json(data):\n",
    "    formatted_json = html.escape(json.dumps(data, indent=4))\n",
    "    display(HTML(f\"<pre>{formatted_json}</pre>\"))\n",
    "\n",
    "# for interactive fact testing\n",
    "file_path = \"data/passages_bm25_ChatGPT_humfacts.jsonl\"  # Replace with your file path\n",
    "fact_name = \"Maracaibo is in Venezuela.\"\n",
    "\n",
    "t = 0.60\n",
    "result = test_fact_from_file(file_path, fact_name, threshold=t)\n",
    "display_json(result)\n"
   ]
  }
 ],
 "metadata": {
  "kernelspec": {
   "display_name": "Python 3 (ipykernel)",
   "language": "python",
   "name": "python3"
  },
  "language_info": {
   "codemirror_mode": {
    "name": "ipython",
    "version": 3
   },
   "file_extension": ".py",
   "mimetype": "text/x-python",
   "name": "python",
   "nbconvert_exporter": "python",
   "pygments_lexer": "ipython3",
   "version": "3.9.13"
  }
 },
 "nbformat": 4,
 "nbformat_minor": 4
}
