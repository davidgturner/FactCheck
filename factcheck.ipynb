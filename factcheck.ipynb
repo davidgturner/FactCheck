{
 "cells": [
  {
   "cell_type": "code",
   "execution_count": 5,
   "metadata": {},
   "outputs": [
    {
     "name": "stderr",
     "output_type": "stream",
     "text": [
      "Special tokens have been added in the vocabulary, make sure the associated word embeddings are fine-tuned or trained.\n",
      "c:\\Projects\\FactCheck\\factcheck_venv\\lib\\site-packages\\transformers\\convert_slow_tokenizer.py:473: UserWarning: The sentencepiece tokenizer that you are converting to a fast tokenizer uses the byte fallback option which is not implemented in the fast tokenizers. In practice this means that the fast version of the tokenizer can produce unknown tokens whereas the sentencepiece version would have converted these unknown tokens into a sequence of byte tokens matching the original piece of text.\n",
      "  warnings.warn(\n",
      "Special tokens have been added in the vocabulary, make sure the associated word embeddings are fine-tuned or trained.\n"
     ]
    }
   ],
   "source": [
    "# a function to grab a single fact from json file\n",
    "import json\n",
    "from transformers import AutoTokenizer, AutoModelForSequenceClassification\n",
    "from factcheck import EntailmentFactChecker, EntailmentModel \n",
    "from transformers import AutoConfig\n",
    "\n",
    "# Initialize the EntailmentFactChecker\n",
    "model_name = \"MoritzLaurer/DeBERTa-v3-base-mnli-fever-anli\"\n",
    "ent_tokenizer = AutoTokenizer.from_pretrained(model_name)\n",
    "roberta_ent_model = AutoModelForSequenceClassification.from_pretrained(model_name)\n",
    "ent_model = EntailmentModel(roberta_ent_model, ent_tokenizer)\n",
    "fact_checker = EntailmentFactChecker(ent_model)\n",
    "\n",
    "def test_fact_from_file(file_path, fact_name, threshold):\n",
    "    with open(file_path, 'r') as file:\n",
    "        lines = file.readlines()\n",
    "        data = [json.loads(line) for line in lines]\n",
    "        \n",
    "    # Search for the fact based on the \"sent\" field\n",
    "    fact_data = next((entry for entry in data if entry['sent'] == fact_name), None)\n",
    "    \n",
    "    if not fact_data:\n",
    "        print(f\"Error: No fact found with name '{fact_name}'.\")\n",
    "        return\n",
    "    \n",
    "    fact = fact_data['sent']\n",
    "    passages = fact_data['passages']\n",
    "    \n",
    "    result = fact_checker.check_fact(fact_checker.clean_text(fact), passages, threshold=threshold)\n",
    "\n",
    "    # Append the original passages and sentences to the result\n",
    "    result['original_passages'] = passages\n",
    "\n",
    "    return result\n"
   ]
  },
  {
   "cell_type": "code",
   "execution_count": 10,
   "metadata": {},
   "outputs": [
    {
     "data": {
      "text/html": [
       "\n",
       "<style>\n",
       "    pre {\n",
       "        white-space: pre-wrap;\n",
       "    }\n",
       "</style>\n"
      ],
      "text/plain": [
       "<IPython.core.display.HTML object>"
      ]
     },
     "metadata": {},
     "output_type": "display_data"
    },
    {
     "data": {
      "text/html": [
       "<pre>{\n",
       "    &quot;decision&quot;: &quot;NS&quot;,\n",
       "    &quot;max_entailment_score&quot;: 0.05504082143306732,\n",
       "    &quot;most_entailing_sentence&quot;: &quot;Ko Itakura . - 2. Bundesliga: 2021\\u201322 Individual - TAG Heuer YOUNG GUNS AWARD: 2018 - Groningen player of the year: 2020/21 - Japan Pro-Footballers Association awards: Best XI (2022)&lt;/s&gt;&quot;,\n",
       "    &quot;entailment_prob&quot;: 0.05504082143306732,\n",
       "    &quot;neutral_prob&quot;: 0.8225752115249634,\n",
       "    &quot;contradiction_prob&quot;: 0.12238402664661407,\n",
       "    &quot;original_passages&quot;: [\n",
       "        {\n",
       "            &quot;title&quot;: &quot;Ko Itakura&quot;,\n",
       "            &quot;text&quot;: &quot;&lt;s&gt;Ko Itakura&lt;/s&gt;&lt;s&gt;Club career. Born in Yokohama, Ko Itakura joined J1 League club Kawasaki Frontale in 2015, with which he won the 2017 Japanese championship. He was loaned to Vegalta Sendai in 2018. In January 2019, he joined Premier League club Manchester City and was immediately loaned to Eredivisie club Groningen, until the summer of 2020. On 24 July 2020, his stay with Groningen was extended with one more year after both clubs agreed. On 19 August 2021, Itakura signed a season-long loan deal with 2. Bundesliga club Schalke 04 with an option to make the move permanent for \\u00a35 million. At the end of the season, he was promoted to the Bundesliga with Schalke, but the club did not activate the option due to financial reasons. On 2 July 2022, he returned to Germany and signed permanently with Bundesliga club Borussia M\\u00f6nchengladbach on a \\u20ac5,000,000 transfer fee.&lt;/s&gt;&lt;s&gt;International career. In May 2017, Itakura was called up to the Japan U-20 national team for the 2017 U-20 World Cup. At this tournament, he played 2 matches as defensive midfielder. He was selected for the senior Japan&quot;\n",
       "        },\n",
       "        {\n",
       "            &quot;title&quot;: &quot;Ko Itakura&quot;,\n",
       "            &quot;text&quot;: &quot; national football team for 2019 Copa Am\\u00e9rica and made his debut on 20 June 2019 in the game against Uruguay, as a starter. In November 2022, he was selected for the 2022 FIFA World Cup Japan National team for the first time. Participated in all group stage matches and became the first Asian team to win first place in an overseas World Cup group league, contributing to advance to the final tournament for two consecutive tournaments. His long ball was the starting point of the come-from-behind goal against Germany. He was also named in the first group stage best eleven by Spain&#x27;s &#x27;Marca&#x27; and Italy&#x27;s version of &#x27;Sky Sports&#x27;. The former named him one of the players to double his value in the World Cup and described him as \\&quot;the most consistent performance of the entire tournament\\&quot;. On March 28, 2023, he served as captain for the first time in the second match of the second term of Moriyasu Japan against Colombia.&lt;/s&gt;&lt;s&gt;Career statistics.&lt;/s&gt;&lt;s&gt;Career statistics.:Club.&lt;/s&gt;&lt;s&gt;Career statistics.:International. \\&quot;Scores and results list Japan&#x27;s goal tally first.\\&quot;&lt;/s&gt;&lt;s&gt;Honours. Kawasaki Frontale - J1 League: 2017 Vegalta Sendai - Emperor&#x27;s Cup: 2018 Schalke 04&quot;\n",
       "        },\n",
       "        {\n",
       "            &quot;title&quot;: &quot;Ko Itakura&quot;,\n",
       "            &quot;text&quot;: &quot; - 2. Bundesliga: 2021\\u201322 Individual - TAG Heuer YOUNG GUNS AWARD: 2018 - Groningen player of the year: 2020/21 - Japan Pro-Footballers Association awards: Best XI (2022)&lt;/s&gt;&quot;\n",
       "        }\n",
       "    ]\n",
       "}</pre>"
      ],
      "text/plain": [
       "<IPython.core.display.HTML object>"
      ]
     },
     "metadata": {},
     "output_type": "display_data"
    }
   ],
   "source": [
    "import html\n",
    "import json\n",
    "from IPython.display import display, HTML\n",
    "\n",
    "# Custom CSS to enable word wrapping for <pre> tags\n",
    "custom_css = \"\"\"\n",
    "<style>\n",
    "    pre {\n",
    "        white-space: pre-wrap;\n",
    "    }\n",
    "</style>\n",
    "\"\"\"\n",
    "\n",
    "display(HTML(custom_css))\n",
    "\n",
    "def display_json(data):\n",
    "    formatted_json = html.escape(json.dumps(data, indent=4))\n",
    "    display(HTML(f\"<pre>{formatted_json}</pre>\"))\n",
    "\n",
    "# for interactive fact testing\n",
    "file_path = \"data/passages_bm25_ChatGPT_humfacts.jsonl\"\n",
    "fact_name = \"He moved to Dutch club FC Groningen.\"\n",
    "\n",
    "t = 0.50\n",
    "result = test_fact_from_file(file_path, fact_name, threshold=t)\n",
    "display_json(result)\n"
   ]
  }
 ],
 "metadata": {
  "kernelspec": {
   "display_name": "Python 3 (ipykernel)",
   "language": "python",
   "name": "python3"
  },
  "language_info": {
   "codemirror_mode": {
    "name": "ipython",
    "version": 3
   },
   "file_extension": ".py",
   "mimetype": "text/x-python",
   "name": "python",
   "nbconvert_exporter": "python",
   "pygments_lexer": "ipython3",
   "version": "3.9.13"
  }
 },
 "nbformat": 4,
 "nbformat_minor": 4
}
