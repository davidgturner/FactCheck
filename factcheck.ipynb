{
 "cells": [
  {
   "cell_type": "code",
   "execution_count": 7,
   "metadata": {},
   "outputs": [
    {
     "name": "stderr",
     "output_type": "stream",
     "text": [
      "Special tokens have been added in the vocabulary, make sure the associated word embeddings are fine-tuned or trained.\n",
      "c:\\Projects\\FactCheck\\factcheck_venv\\lib\\site-packages\\transformers\\convert_slow_tokenizer.py:473: UserWarning: The sentencepiece tokenizer that you are converting to a fast tokenizer uses the byte fallback option which is not implemented in the fast tokenizers. In practice this means that the fast version of the tokenizer can produce unknown tokens whereas the sentencepiece version would have converted these unknown tokens into a sequence of byte tokens matching the original piece of text.\n",
      "  warnings.warn(\n",
      "Special tokens have been added in the vocabulary, make sure the associated word embeddings are fine-tuned or trained.\n"
     ]
    },
    {
     "name": "stdout",
     "output_type": "stream",
     "text": [
      "Tokenizer Algorithm: DebertaV2TokenizerFast\n",
      "Special Tokens:\n",
      "  Start Token (BOS): '[CLS]' (ID: 1)\n",
      "  End Token (EOS): '[SEP]' (ID: 2)\n",
      "  Unknown Token (UNK): '[UNK]' (ID: 3)\n",
      "  Padding Token (PAD): '[PAD]' (ID: 0)\n",
      "  Mask Token (MASK): '[MASK]' (ID: 128000)\n",
      "Vocabulary Size: 128000\n",
      "Model Max Length: 512\n",
      "Is Lowercase: False\n"
     ]
    }
   ],
   "source": [
    "# a function to grab a single fact from json file\n",
    "import json\n",
    "from transformers import AutoTokenizer, AutoModelForSequenceClassification\n",
    "from factcheck import EntailmentFactChecker, EntailmentModel \n",
    "\n",
    "# Initialize the EntailmentFactChecker\n",
    "model_name = \"MoritzLaurer/DeBERTa-v3-base-mnli-fever-anli\"\n",
    "ent_tokenizer = AutoTokenizer.from_pretrained(model_name)\n",
    "tokenizer = ent_tokenizer\n",
    "roberta_ent_model = AutoModelForSequenceClassification.from_pretrained(model_name)\n",
    "ent_model = EntailmentModel(roberta_ent_model, ent_tokenizer)\n",
    "fact_checker = EntailmentFactChecker(ent_model)\n",
    "\n",
    "# Print out details about the tokenizer\n",
    "print(\"Tokenizer Algorithm:\", tokenizer.__class__.__name__)\n",
    "print(\"Special Tokens:\")\n",
    "print(\"  Start Token (BOS): '{}' (ID: {})\".format(tokenizer.bos_token, tokenizer.bos_token_id))\n",
    "print(\"  End Token (EOS): '{}' (ID: {})\".format(tokenizer.eos_token, tokenizer.eos_token_id))\n",
    "print(\"  Unknown Token (UNK): '{}' (ID: {})\".format(tokenizer.unk_token, tokenizer.unk_token_id))\n",
    "print(\"  Padding Token (PAD): '{}' (ID: {})\".format(tokenizer.pad_token, tokenizer.pad_token_id))\n",
    "print(\"  Mask Token (MASK): '{}' (ID: {})\".format(tokenizer.mask_token, tokenizer.mask_token_id))\n",
    "print(\"Vocabulary Size:\", tokenizer.vocab_size)\n",
    "print(\"Model Max Length:\", tokenizer.model_max_length)\n",
    "print(\"Is Lowercase:\", tokenizer.do_lower_case if hasattr(tokenizer, \"do_lower_case\") else \"Not Applicable\")\n",
    "\n",
    "# # If you want to see more attributes, you can print out the tokenizer's configuration\n",
    "# print(\"\\nTokenizer Configuration:\")\n",
    "# print(tokenizer.config)\n"
   ]
  },
  {
   "cell_type": "code",
   "execution_count": 8,
   "metadata": {},
   "outputs": [],
   "source": [
    "def test_fact_from_file(file_path, fact_name):\n",
    "    with open(file_path, 'r') as file:\n",
    "        lines = file.readlines()\n",
    "        data = [json.loads(line) for line in lines]\n",
    "        \n",
    "    # Search for the fact based on the \"sent\" field\n",
    "    fact_data = next((entry for entry in data if entry['sent'] == fact_name), None)\n",
    "    \n",
    "    if not fact_data:\n",
    "        print(f\"Error: No fact found with name '{fact_name}'.\")\n",
    "        return\n",
    "    \n",
    "    fact = fact_data['sent']\n",
    "    passages = fact_data['passages']\n",
    "    \n",
    "    result = fact_checker.check_fact(fact_checker.clean_text(fact), passages)\n",
    "\n",
    "    # Append the original passages and sentences to the result\n",
    "    result['original_passages'] = passages\n",
    "\n",
    "    return result"
   ]
  },
  {
   "cell_type": "code",
   "execution_count": 12,
   "metadata": {},
   "outputs": [
    {
     "data": {
      "text/html": [
       "\n",
       "<style>\n",
       "    pre {\n",
       "        white-space: pre-wrap;\n",
       "    }\n",
       "</style>\n"
      ],
      "text/plain": [
       "<IPython.core.display.HTML object>"
      ]
     },
     "metadata": {},
     "output_type": "display_data"
    },
    {
     "name": "stdout",
     "output_type": "stream",
     "text": [
      "tokens for fact:  ['▁He', '▁often', '▁incorporates', '▁African', '▁elements', '▁into', '▁his', '▁style', '.']\n",
      "back to text:  He often incorporates African elements into his style.\n"
     ]
    },
    {
     "data": {
      "text/html": [
       "<pre>{\n",
       "    &quot;decision&quot;: &quot;NS&quot;,\n",
       "    &quot;max_entailment_score&quot;: 0.2116204798221588,\n",
       "    &quot;most_entailing_sentence&quot;: &quot; EP was released \\u2013 \\&quot;Yoga\\&quot; by Janelle Mon\\u00e1e and Jidenna. His song \\&quot;Classic Man\\&quot; was nominated for Best Rap/Sung Collaboration at the 58th Grammy Awards. In June of the same year, Jidenna performed the song with Mon\\u00e1e at the BET Awards. Jidenna also received an award for best new artist at the 2015 Soul Train Music Awards in November. Jidenna is a founding member of Fear &amp; Fancy, a social club that began in California in 2006. The society, reminiscent of the social aid and pleasure clubs of New Orleans, is an international collective of entrepreneurs, activists, educators, scientists, and artists who host soirees, dinner parties, and demonstrations. In June 2016 he released the single \\&quot;Chief Don&#x27;t Run\\&quot;. On February 17, 2017, Jidenna released \\&quot;The Chief\\&quot;, his first studio album. The album cover pays homage to Boz Scaggs&#x27; \\&quot;Middle Man\\&quot; album. The lead singles \\&quot;Sufi Woman\\&quot; and \\&quot;Tribe\\&quot; were released on July 26, 2019, and will appear on his second studio album \\&quot;85 to Africa\\&quot;. In 2019 Jidenna released his second album, \\&quot;85 to Africa\\&quot;.&lt;/s&gt;&lt;s&gt;Style. Jidenna&quot;,\n",
       "    &quot;max_contradiction_score&quot;: 0.06842179596424103,\n",
       "    &quot;most_contradicting_sentence&quot;: &quot; EP was released \\u2013 \\&quot;Yoga\\&quot; by Janelle Mon\\u00e1e and Jidenna. His song \\&quot;Classic Man\\&quot; was nominated for Best Rap/Sung Collaboration at the 58th Grammy Awards. In June of the same year, Jidenna performed the song with Mon\\u00e1e at the BET Awards. Jidenna also received an award for best new artist at the 2015 Soul Train Music Awards in November. Jidenna is a founding member of Fear &amp; Fancy, a social club that began in California in 2006. The society, reminiscent of the social aid and pleasure clubs of New Orleans, is an international collective of entrepreneurs, activists, educators, scientists, and artists who host soirees, dinner parties, and demonstrations. In June 2016 he released the single \\&quot;Chief Don&#x27;t Run\\&quot;. On February 17, 2017, Jidenna released \\&quot;The Chief\\&quot;, his first studio album. The album cover pays homage to Boz Scaggs&#x27; \\&quot;Middle Man\\&quot; album. The lead singles \\&quot;Sufi Woman\\&quot; and \\&quot;Tribe\\&quot; were released on July 26, 2019, and will appear on his second studio album \\&quot;85 to Africa\\&quot;. In 2019 Jidenna released his second album, \\&quot;85 to Africa\\&quot;.&lt;/s&gt;&lt;s&gt;Style. Jidenna&quot;,\n",
       "    &quot;clean_total_full_passage_text&quot;: &quot;stated that his major influences include KRS-One and Big Daddy Kane, as well as the Nigerian Highlife music genre. Over the years, the singer developed his personal style in college, where he learned about the power of fashion from his psychology professor Philip Zimbardo. However, he would not adopt his signature dandy style until the death of his father in 2010. Jidenna describes his look as \\&quot;heavily inspired by the Harlem Renaissance with hints of traditional West African design,\\&quot; and a \\&quot;marriage of European and African aesthetics.\\&quot; Jidenna currently resides in East Flatbush, Brooklyn.Appearances in popular media. In September 2016, Jidenna was featured in an episode of the Netflix original series \\&quot;Luke Cage\\&quot;. Season 1 episode 5, \\&quot;Just to Get a Rep\\&quot;, opens with Jidenna performing \\&quot;Long Live the Chief\\&quot; at the fictitious Harlem&#x27;s Paradise. He performed \\&quot;Long Live the Chief\\&quot; and \\&quot;Little Bit More\\&quot; with a full band on \\&quot;The Daily Show with Trevor Noah\\&quot; in October 2016. Jidenna guest starred on \\&quot;Insecure\\&quot; in the episodes \\&quot;Thirsty as Fuck,\\&quot; and \\&quot;Shady as Fuck,\\&quot; which aired in November 2016. A chopped and screwed version of \\&quot;Classic Man\\&quot; featured inSpadez, and began producing, arranging and writing. Mobisson released his first album with Black Spadez as their final project at Milton Academy, where Mobisson graduated in 2003. In 2008, after graduating with a Bachelor of Arts degree in Comparative Studies in Race and Ethnicity from Stanford University, he pursued his music career while working full-time as a teacher, moving between Los Angeles, Oakland, Brooklyn and Atlanta, before signing a deal with recording artist Janelle Mone&#x27;s Wondaland Records.Career. Jidenna is signed to Janelle Mone&#x27;s Wondaland Records label and distributed through Epic Records. He has collaborated with a number of artists that are signed to this label; including Roman GianArthur, St. Beauty, Deep Cotton and Janelle Mone herself, and then began recording a five-song compilation of its label&#x27;s first extended play (EP), titled \\&quot;\\&quot;. In February 2015, Jidenna released his first official single, called \\&quot;Classic Man\\&quot; featuring GianArthur. The song was in heavy rotation throughout the United States, and debuted at number 49 on \\&quot;Billboard\\&quot; Hot R&amp;B/Hip-Hop Airplay chart. On March 31, 2015, the second single from theEP was released  \\&quot;Yoga\\&quot; by Janelle Mone and Jidenna. His song \\&quot;Classic Man\\&quot; was nominated for Best Rap/Sung Collaboration at the 58th Grammy Awards. In June of the same year, Jidenna performed the song with Mone at the BET Awards. Jidenna also received an award for best new artist at the 2015 Soul Train Music Awards in November. Jidenna is a founding member of Fear &amp; Fancy, a social club that began in California in 2006. The society, reminiscent of the social aid and pleasure clubs of New Orleans, is an international collective of entrepreneurs, activists, educators, scientists, and artists who host soirees, dinner parties, and demonstrations. In June 2016 he released the single \\&quot;Chief Don&#x27;t Run\\&quot;. On February 17, 2017, Jidenna released \\&quot;The Chief\\&quot;, his first studio album. The album cover pays homage to Boz Scaggs&#x27; \\&quot;Middle Man\\&quot; album. The lead singles \\&quot;Sufi Woman\\&quot; and \\&quot;Tribe\\&quot; were released on July 26, 2019, and will appear on his second studio album \\&quot;85 to Africa\\&quot;. In 2019 Jidenna released his second album, \\&quot;85 to Africa\\&quot;.Style. JidennaJidenna Jidenna Theodore Mobisson (born May 4, 1985), known mononymously as Jidenna, is an American rapper and singer. In 2015, Jidenna released two singles, \\&quot;Classic Man\\&quot; (featuring Roman GianArthur and Kendrick Lamar) and \\&quot;Yoga\\&quot; (with Janelle Mone), promoting Mone&#x27;s label Wondaland Records&#x27; compilation EP, \\&quot;\\&quot; (2015) with Epic Records. His debut album, \\&quot;The Chief\\&quot;, was released on February 17, 2017, and peaked at number 38 on the \\&quot;Billboard\\&quot; 200.Early life and education. Jidenna Theodore Mobisson was born on May 4, 1985, in Wisconsin Rapids, Wisconsin, to Tama Mobisson, an accountant, and Oliver Mobisson, a Nigerian Igbo academic. Mobisson grew up partially in Nigeria, where his father was working as a professor of computer science at Enugu State University. When Mobisson was six years old, the family moved back to the United States due to a failed kidnapping attempt. In 1995, the family moved to Norwood, Massachusetts, and then to Milton in 2000. His father died in 2010. In high school he became a co-founder of the rap group Blackthe Academy Award winning 2016 film \\&quot;Moonlight\\&quot;.Discography. - \\&quot;\\&quot; (2015) - \\&quot;The Chief\\&quot; (2017) - Boomerang  EP (2017) - \\&quot;85 to Africa\\&quot; (2019)&quot;,\n",
       "    &quot;og_passages&quot;: [\n",
       "        {\n",
       "            &quot;title&quot;: &quot;Jidenna&quot;,\n",
       "            &quot;text&quot;: &quot; stated that his major influences include KRS-One and Big Daddy Kane, as well as the Nigerian Highlife music genre. Over the years, the singer developed his personal style in college, where he learned about the power of fashion from his psychology professor Philip Zimbardo. However, he would not adopt his signature dandy style until the death of his father in 2010. Jidenna describes his look as \\&quot;heavily inspired by the Harlem Renaissance with hints of traditional West African design,\\&quot; and a \\&quot;marriage of European and African aesthetics.\\&quot; Jidenna currently resides in East Flatbush, Brooklyn.&lt;/s&gt;&lt;s&gt;Appearances in popular media. In September 2016, Jidenna was featured in an episode of the Netflix original series \\&quot;Luke Cage\\&quot;. Season 1 episode 5, \\&quot;Just to Get a Rep\\&quot;, opens with Jidenna performing \\&quot;Long Live the Chief\\&quot; at the fictitious Harlem&#x27;s Paradise. He performed \\&quot;Long Live the Chief\\&quot; and \\&quot;Little Bit More\\&quot; with a full band on \\&quot;The Daily Show with Trevor Noah\\&quot; in October 2016. Jidenna guest starred on \\&quot;Insecure\\&quot; in the episodes \\&quot;Thirsty as Fuck,\\&quot; and \\&quot;Shady as Fuck,\\&quot; which aired in November 2016. A chopped and screwed version of \\&quot;Classic Man\\&quot; featured in&quot;\n",
       "        },\n",
       "        {\n",
       "            &quot;title&quot;: &quot;Jidenna&quot;,\n",
       "            &quot;text&quot;: &quot; Spadez, and began producing, arranging and writing. Mobisson released his first album with Black Spadez as their final project at Milton Academy, where Mobisson graduated in 2003. In 2008, after graduating with a Bachelor of Arts degree in Comparative Studies in Race and Ethnicity from Stanford University, he pursued his music career while working full-time as a teacher, moving between Los Angeles, Oakland, Brooklyn and Atlanta, before signing a deal with recording artist Janelle Mon\\u00e1e&#x27;s Wondaland Records.&lt;/s&gt;&lt;s&gt;Career. Jidenna is signed to Janelle Mon\\u00e1e&#x27;s Wondaland Records label and distributed through Epic Records. He has collaborated with a number of artists that are signed to this label; including Roman GianArthur, St. Beauty, Deep Cotton and Janelle Mon\\u00e1e herself, and then began recording a five-song compilation of its label&#x27;s first extended play (EP), titled \\&quot;\\&quot;. In February 2015, Jidenna released his first official single, called \\&quot;Classic Man\\&quot; featuring GianArthur. The song was in heavy rotation throughout the United States, and debuted at number 49 on \\&quot;Billboard\\&quot; Hot R&amp;B/Hip-Hop Airplay chart. On March 31, 2015, the second single from the&quot;\n",
       "        },\n",
       "        {\n",
       "            &quot;title&quot;: &quot;Jidenna&quot;,\n",
       "            &quot;text&quot;: &quot; EP was released \\u2013 \\&quot;Yoga\\&quot; by Janelle Mon\\u00e1e and Jidenna. His song \\&quot;Classic Man\\&quot; was nominated for Best Rap/Sung Collaboration at the 58th Grammy Awards. In June of the same year, Jidenna performed the song with Mon\\u00e1e at the BET Awards. Jidenna also received an award for best new artist at the 2015 Soul Train Music Awards in November. Jidenna is a founding member of Fear &amp; Fancy, a social club that began in California in 2006. The society, reminiscent of the social aid and pleasure clubs of New Orleans, is an international collective of entrepreneurs, activists, educators, scientists, and artists who host soirees, dinner parties, and demonstrations. In June 2016 he released the single \\&quot;Chief Don&#x27;t Run\\&quot;. On February 17, 2017, Jidenna released \\&quot;The Chief\\&quot;, his first studio album. The album cover pays homage to Boz Scaggs&#x27; \\&quot;Middle Man\\&quot; album. The lead singles \\&quot;Sufi Woman\\&quot; and \\&quot;Tribe\\&quot; were released on July 26, 2019, and will appear on his second studio album \\&quot;85 to Africa\\&quot;. In 2019 Jidenna released his second album, \\&quot;85 to Africa\\&quot;.&lt;/s&gt;&lt;s&gt;Style. Jidenna&quot;\n",
       "        },\n",
       "        {\n",
       "            &quot;title&quot;: &quot;Jidenna&quot;,\n",
       "            &quot;text&quot;: &quot;&lt;s&gt;Jidenna Jidenna Theodore Mobisson (born May 4, 1985), known mononymously as Jidenna, is an American rapper and singer. In 2015, Jidenna released two singles, \\&quot;Classic Man\\&quot; (featuring Roman GianArthur and Kendrick Lamar) and \\&quot;Yoga\\&quot; (with Janelle Mon\\u00e1e), promoting Mon\\u00e1e&#x27;s label Wondaland Records&#x27; compilation EP, \\&quot;\\&quot; (2015) with Epic Records. His debut album, \\&quot;The Chief\\&quot;, was released on February 17, 2017, and peaked at number 38 on the \\&quot;Billboard\\&quot; 200.&lt;/s&gt;&lt;s&gt;Early life and education. Jidenna Theodore Mobisson was born on May 4, 1985, in Wisconsin Rapids, Wisconsin,  to Tama Mobisson, an accountant, and Oliver Mobisson, a Nigerian Igbo academic. Mobisson grew up partially in Nigeria, where his father was working as a professor of computer science at Enugu State University. When Mobisson was six years old, the family moved back to the United States due to a failed kidnapping attempt. In 1995, the family moved to Norwood, Massachusetts, and then to Milton in 2000. His father died in 2010. In high school he became a co-founder of the rap group Black&quot;\n",
       "        },\n",
       "        {\n",
       "            &quot;title&quot;: &quot;Jidenna&quot;,\n",
       "            &quot;text&quot;: &quot; the Academy Award winning 2016 film \\&quot;Moonlight\\&quot;.&lt;/s&gt;&lt;s&gt;Discography. - \\&quot;\\&quot; (2015) - \\&quot;The Chief\\&quot; (2017) - Boomerang \\u2013 EP (2017) - \\&quot;85 to Africa\\&quot; (2019)&lt;/s&gt;&quot;\n",
       "        }\n",
       "    ],\n",
       "    &quot;original_passages&quot;: [\n",
       "        {\n",
       "            &quot;title&quot;: &quot;Jidenna&quot;,\n",
       "            &quot;text&quot;: &quot; stated that his major influences include KRS-One and Big Daddy Kane, as well as the Nigerian Highlife music genre. Over the years, the singer developed his personal style in college, where he learned about the power of fashion from his psychology professor Philip Zimbardo. However, he would not adopt his signature dandy style until the death of his father in 2010. Jidenna describes his look as \\&quot;heavily inspired by the Harlem Renaissance with hints of traditional West African design,\\&quot; and a \\&quot;marriage of European and African aesthetics.\\&quot; Jidenna currently resides in East Flatbush, Brooklyn.&lt;/s&gt;&lt;s&gt;Appearances in popular media. In September 2016, Jidenna was featured in an episode of the Netflix original series \\&quot;Luke Cage\\&quot;. Season 1 episode 5, \\&quot;Just to Get a Rep\\&quot;, opens with Jidenna performing \\&quot;Long Live the Chief\\&quot; at the fictitious Harlem&#x27;s Paradise. He performed \\&quot;Long Live the Chief\\&quot; and \\&quot;Little Bit More\\&quot; with a full band on \\&quot;The Daily Show with Trevor Noah\\&quot; in October 2016. Jidenna guest starred on \\&quot;Insecure\\&quot; in the episodes \\&quot;Thirsty as Fuck,\\&quot; and \\&quot;Shady as Fuck,\\&quot; which aired in November 2016. A chopped and screwed version of \\&quot;Classic Man\\&quot; featured in&quot;\n",
       "        },\n",
       "        {\n",
       "            &quot;title&quot;: &quot;Jidenna&quot;,\n",
       "            &quot;text&quot;: &quot; Spadez, and began producing, arranging and writing. Mobisson released his first album with Black Spadez as their final project at Milton Academy, where Mobisson graduated in 2003. In 2008, after graduating with a Bachelor of Arts degree in Comparative Studies in Race and Ethnicity from Stanford University, he pursued his music career while working full-time as a teacher, moving between Los Angeles, Oakland, Brooklyn and Atlanta, before signing a deal with recording artist Janelle Mon\\u00e1e&#x27;s Wondaland Records.&lt;/s&gt;&lt;s&gt;Career. Jidenna is signed to Janelle Mon\\u00e1e&#x27;s Wondaland Records label and distributed through Epic Records. He has collaborated with a number of artists that are signed to this label; including Roman GianArthur, St. Beauty, Deep Cotton and Janelle Mon\\u00e1e herself, and then began recording a five-song compilation of its label&#x27;s first extended play (EP), titled \\&quot;\\&quot;. In February 2015, Jidenna released his first official single, called \\&quot;Classic Man\\&quot; featuring GianArthur. The song was in heavy rotation throughout the United States, and debuted at number 49 on \\&quot;Billboard\\&quot; Hot R&amp;B/Hip-Hop Airplay chart. On March 31, 2015, the second single from the&quot;\n",
       "        },\n",
       "        {\n",
       "            &quot;title&quot;: &quot;Jidenna&quot;,\n",
       "            &quot;text&quot;: &quot; EP was released \\u2013 \\&quot;Yoga\\&quot; by Janelle Mon\\u00e1e and Jidenna. His song \\&quot;Classic Man\\&quot; was nominated for Best Rap/Sung Collaboration at the 58th Grammy Awards. In June of the same year, Jidenna performed the song with Mon\\u00e1e at the BET Awards. Jidenna also received an award for best new artist at the 2015 Soul Train Music Awards in November. Jidenna is a founding member of Fear &amp; Fancy, a social club that began in California in 2006. The society, reminiscent of the social aid and pleasure clubs of New Orleans, is an international collective of entrepreneurs, activists, educators, scientists, and artists who host soirees, dinner parties, and demonstrations. In June 2016 he released the single \\&quot;Chief Don&#x27;t Run\\&quot;. On February 17, 2017, Jidenna released \\&quot;The Chief\\&quot;, his first studio album. The album cover pays homage to Boz Scaggs&#x27; \\&quot;Middle Man\\&quot; album. The lead singles \\&quot;Sufi Woman\\&quot; and \\&quot;Tribe\\&quot; were released on July 26, 2019, and will appear on his second studio album \\&quot;85 to Africa\\&quot;. In 2019 Jidenna released his second album, \\&quot;85 to Africa\\&quot;.&lt;/s&gt;&lt;s&gt;Style. Jidenna&quot;\n",
       "        },\n",
       "        {\n",
       "            &quot;title&quot;: &quot;Jidenna&quot;,\n",
       "            &quot;text&quot;: &quot;&lt;s&gt;Jidenna Jidenna Theodore Mobisson (born May 4, 1985), known mononymously as Jidenna, is an American rapper and singer. In 2015, Jidenna released two singles, \\&quot;Classic Man\\&quot; (featuring Roman GianArthur and Kendrick Lamar) and \\&quot;Yoga\\&quot; (with Janelle Mon\\u00e1e), promoting Mon\\u00e1e&#x27;s label Wondaland Records&#x27; compilation EP, \\&quot;\\&quot; (2015) with Epic Records. His debut album, \\&quot;The Chief\\&quot;, was released on February 17, 2017, and peaked at number 38 on the \\&quot;Billboard\\&quot; 200.&lt;/s&gt;&lt;s&gt;Early life and education. Jidenna Theodore Mobisson was born on May 4, 1985, in Wisconsin Rapids, Wisconsin,  to Tama Mobisson, an accountant, and Oliver Mobisson, a Nigerian Igbo academic. Mobisson grew up partially in Nigeria, where his father was working as a professor of computer science at Enugu State University. When Mobisson was six years old, the family moved back to the United States due to a failed kidnapping attempt. In 1995, the family moved to Norwood, Massachusetts, and then to Milton in 2000. His father died in 2010. In high school he became a co-founder of the rap group Black&quot;\n",
       "        },\n",
       "        {\n",
       "            &quot;title&quot;: &quot;Jidenna&quot;,\n",
       "            &quot;text&quot;: &quot; the Academy Award winning 2016 film \\&quot;Moonlight\\&quot;.&lt;/s&gt;&lt;s&gt;Discography. - \\&quot;\\&quot; (2015) - \\&quot;The Chief\\&quot; (2017) - Boomerang \\u2013 EP (2017) - \\&quot;85 to Africa\\&quot; (2019)&lt;/s&gt;&quot;\n",
       "        }\n",
       "    ]\n",
       "}</pre>"
      ],
      "text/plain": [
       "<IPython.core.display.HTML object>"
      ]
     },
     "metadata": {},
     "output_type": "display_data"
    }
   ],
   "source": [
    "import html\n",
    "import json\n",
    "from IPython.display import display, HTML\n",
    "\n",
    "# Custom CSS to enable word wrapping for <pre> tags\n",
    "custom_css = \"\"\"\n",
    "<style>\n",
    "    pre {\n",
    "        white-space: pre-wrap;\n",
    "    }\n",
    "</style>\n",
    "\"\"\"\n",
    "\n",
    "display(HTML(custom_css))\n",
    "\n",
    "def display_json(data):\n",
    "    formatted_json = html.escape(json.dumps(data, indent=4))\n",
    "    display(HTML(f\"<pre>{formatted_json}</pre>\"))\n",
    "\n",
    "# for interactive fact testing\n",
    "file_path = \"data/passages_bm25_ChatGPT_humfacts.jsonl\"\n",
    "fact_name = \"He often incorporates African elements into his style.\"\n",
    "tokens = ent_tokenizer.tokenize(fact_name)\n",
    "print(\"tokens for fact: \", tokens)\n",
    "\n",
    "back_to_text = ent_tokenizer.convert_tokens_to_string(tokens)\n",
    "print(\"back to text: \", back_to_text)\n",
    "\n",
    "#t = 0.60\n",
    "result = test_fact_from_file(file_path, fact_name)\n",
    "display_json(result)\n"
   ]
  },
  {
   "cell_type": "markdown",
   "metadata": {},
   "source": [
    "## TESTING SINGLE PASSAGE"
   ]
  },
  {
   "cell_type": "code",
   "execution_count": 10,
   "metadata": {},
   "outputs": [
    {
     "name": "stdout",
     "output_type": "stream",
     "text": [
      "Results=  [0.10194315016269684, 0.8856976628303528, 0.01235916931182146]\n"
     ]
    }
   ],
   "source": [
    "file_path = \"data/passages_bm25_ChatGPT_humfacts.jsonl\"\n",
    "fact_name = \"Florencia Bertotti is a singer.\"\n",
    "passage_text = \"\"\"\n",
    "<s>Florencia Bertotti Mar\\u00eda Florencia Bertotti (born 15 March 1983), better known as Florencia Bertotti is an Argentine actress, singer, songwriter and businesswoman.</s><s>Biography. Florencia Bertotti parents are Gustavo Bertotti, a jeweler and Mar\\u00eda Candelaria P\\u00e9rez Colman, a psychologist and a teacher of children with disabilities. Her parents divorced when Florencia was seven years old. She has an older sister called Clara Bertotti. Her father passed away in 1999 when she was filming the series \\\"Verano del '98\\\". Florencia studied at the Colegio Nuestra Se\\u00f1ora de la Misericordia in Recoleta, Buenos Aires, Argentina.</s><s>Personal life. On 2 December 2006 she got married in a religious ceremony with Guido Kaczka, whom she met in the recordings of \\\"Verano del '98\\\" and who was her boyfriend since then. On 10 July 2008, she gave birth to the couple's first child, a boy, whom they called Romeo Kaczka Bertottia.The couple divorced in March 2010. They both share custody of their son. Since 2010, Florencia Bertotti\n",
    "\"\"\"\n",
    "\n",
    "results_list = ent_model.check_entailment(fact_name, passage_text)\n",
    "print(\"Results= \", results_list)\n"
   ]
  },
  {
   "cell_type": "markdown",
   "metadata": {},
   "source": [
    "## TESTING CLEAN_TEXT"
   ]
  },
  {
   "cell_type": "code",
   "execution_count": 11,
   "metadata": {},
   "outputs": [
    {
     "name": "stdout",
     "output_type": "stream",
     "text": [
      "og text  Jessica Barboza is a beauty queen.\n",
      "text_clean  Jessica Barboza is a beauty queen.\n"
     ]
    }
   ],
   "source": [
    "fact_text = \"Jessica Barboza is a beauty queen.\"\n",
    "text_clean = fact_checker.clean_text(fact_text)\n",
    "\n",
    "print(\"og text \", fact_text)\n",
    "\n",
    "print(\"text_clean \", text_clean)\n",
    "\n",
    "# tokens = tokenizer.tokenize(fact_text)\n",
    "# token_ids = tokenizer.convert_tokens_to_ids(tokens)\n",
    "# print(token_ids)\n",
    "\n",
    "# print(\"Unknown Token \", tokenizer.unk_token_id)"
   ]
  }
 ],
 "metadata": {
  "kernelspec": {
   "display_name": "Python 3 (ipykernel)",
   "language": "python",
   "name": "python3"
  },
  "language_info": {
   "codemirror_mode": {
    "name": "ipython",
    "version": 3
   },
   "file_extension": ".py",
   "mimetype": "text/x-python",
   "name": "python",
   "nbconvert_exporter": "python",
   "pygments_lexer": "ipython3",
   "version": "3.9.13"
  }
 },
 "nbformat": 4,
 "nbformat_minor": 4
}
