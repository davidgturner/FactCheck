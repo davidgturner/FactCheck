{
 "cells": [
  {
   "cell_type": "code",
   "execution_count": 1,
   "metadata": {},
   "outputs": [
    {
     "name": "stderr",
     "output_type": "stream",
     "text": [
      "[nltk_data] Downloading package stopwords to\n",
      "[nltk_data]     C:\\Users\\dgturner01\\AppData\\Roaming\\nltk_data...\n",
      "[nltk_data]   Package stopwords is already up-to-date!\n",
      "[nltk_data] Downloading package punkt to\n",
      "[nltk_data]     C:\\Users\\dgturner01\\AppData\\Roaming\\nltk_data...\n",
      "[nltk_data]   Package punkt is already up-to-date!\n",
      "Special tokens have been added in the vocabulary, make sure the associated word embeddings are fine-tuned or trained.\n",
      "c:\\Projects\\FactCheck\\factcheck_venv\\lib\\site-packages\\transformers\\convert_slow_tokenizer.py:473: UserWarning: The sentencepiece tokenizer that you are converting to a fast tokenizer uses the byte fallback option which is not implemented in the fast tokenizers. In practice this means that the fast version of the tokenizer can produce unknown tokens whereas the sentencepiece version would have converted these unknown tokens into a sequence of byte tokens matching the original piece of text.\n",
      "  warnings.warn(\n",
      "Special tokens have been added in the vocabulary, make sure the associated word embeddings are fine-tuned or trained.\n"
     ]
    }
   ],
   "source": [
    "# a function to grab a single fact from json file\n",
    "import json\n",
    "from transformers import AutoTokenizer, AutoModelForSequenceClassification\n",
    "from factcheck import EntailmentFactChecker, EntailmentModel \n",
    "from transformers import AutoConfig\n",
    "\n",
    "# Initialize the EntailmentFactChecker\n",
    "model_name = \"MoritzLaurer/DeBERTa-v3-base-mnli-fever-anli\"\n",
    "ent_tokenizer = AutoTokenizer.from_pretrained(model_name)\n",
    "roberta_ent_model = AutoModelForSequenceClassification.from_pretrained(model_name)\n",
    "ent_model = EntailmentModel(roberta_ent_model, ent_tokenizer)\n",
    "fact_checker = EntailmentFactChecker(ent_model)\n",
    "\n",
    "def test_fact_from_file(file_path, fact_name, threshold):\n",
    "    with open(file_path, 'r') as file:\n",
    "        lines = file.readlines()\n",
    "        data = [json.loads(line) for line in lines]\n",
    "        \n",
    "    # Search for the fact based on the \"sent\" field\n",
    "    fact_data = next((entry for entry in data if entry['sent'] == fact_name), None)\n",
    "    \n",
    "    if not fact_data:\n",
    "        print(f\"Error: No fact found with name '{fact_name}'.\")\n",
    "        return\n",
    "    \n",
    "    fact = fact_data['sent']\n",
    "    passages = fact_data['passages']\n",
    "    \n",
    "    result = fact_checker.check_fact(fact_checker.clean_text(fact), passages, threshold=threshold)\n",
    "\n",
    "    # Append the original passages and sentences to the result\n",
    "    result['original_passages'] = passages\n",
    "\n",
    "    return result\n"
   ]
  },
  {
   "cell_type": "code",
   "execution_count": 2,
   "metadata": {},
   "outputs": [
    {
     "data": {
      "text/html": [
       "\n",
       "<style>\n",
       "    pre {\n",
       "        white-space: pre-wrap;\n",
       "    }\n",
       "</style>\n"
      ],
      "text/plain": [
       "<IPython.core.display.HTML object>"
      ]
     },
     "metadata": {},
     "output_type": "display_data"
    },
    {
     "data": {
      "text/html": [
       "<pre>{\n",
       "    &quot;decision&quot;: &quot;NS&quot;,\n",
       "    &quot;max_entailment_score&quot;: 0.14734111726284027,\n",
       "    &quot;most_entailing_sentence&quot;: &quot;Ji Sung . &lt;s&gt;Ji Sung Ji Sung born Kwak Taegeun on 27 February 1977 is a South Korean actor. He is best known for his roles in the television dramas All In 2003, Save the Last Dance for Me 2004, New Heart 2007, Protect the Boss 2011, Secret Love 2013, Kill Me, Heal Me 2015, Innocent Defendant 2017, Familiar Wife 2018, Doctor John 2019, The Devil Judge 2021 and the film My PS Partner 2012.&lt;/s&gt;&lt;s&gt;Early life. Kwak Taegeuns parents were both educators, and they expected him to also enter the teaching profession. But in his sophomore year in high school, his father bought him a VCR and the first movie he rented was Rain Man. Dustin Hoffmans acting left such an impression on him that he decided to become an actor, despite his fathers objections. He later studied Theater and Film at Hanyang University.&lt;/s&gt;&lt;s&gt;Career.&lt;/s&gt;&lt;s&gt;Career.19992002 Beginnings. Ji Sung first auditioned for the 1999 campus drama KAIST, where he&lt;/s&gt;&quot;,\n",
       "    &quot;most_contradicting_sentence&quot;: &quot;Ji Sung . &lt;s&gt;Ji Sung Ji Sung born Kwak Taegeun on 27 February 1977 is a South Korean actor. He is best known for his roles in the television dramas All In 2003, Save the Last Dance for Me 2004, New Heart 2007, Protect the Boss 2011, Secret Love 2013, Kill Me, Heal Me 2015, Innocent Defendant 2017, Familiar Wife 2018, Doctor John 2019, The Devil Judge 2021 and the film My PS Partner 2012.&lt;/s&gt;&lt;s&gt;Early life. Kwak Taegeuns parents were both educators, and they expected him to also enter the teaching profession. But in his sophomore year in high school, his father bought him a VCR and the first movie he rented was Rain Man. Dustin Hoffmans acting left such an impression on him that he decided to become an actor, despite his fathers objections. He later studied Theater and Film at Hanyang University.&lt;/s&gt;&lt;s&gt;Career.&lt;/s&gt;&lt;s&gt;Career.19992002 Beginnings. Ji Sung first auditioned for the 1999 campus drama KAIST, where he&lt;/s&gt;&quot;,\n",
       "    &quot;entailment_prob&quot;: 0.14734111726284027,\n",
       "    &quot;neutral_prob&quot;: 0.827431321144104,\n",
       "    &quot;contradiction_prob&quot;: 0.025227481499314308,\n",
       "    &quot;original_passages&quot;: [\n",
       "        {\n",
       "            &quot;title&quot;: &quot;Ji Sung&quot;,\n",
       "            &quot;text&quot;: &quot;&lt;s&gt;Ji Sung Ji Sung (born Kwak Tae-geun on 27 February 1977) is a South Korean actor. He is best known for his roles in the television dramas \\&quot;All In\\&quot; (2003), \\&quot;Save the Last Dance for Me\\&quot; (2004), \\&quot;New Heart\\&quot; (2007), \\&quot;Protect the Boss\\&quot; (2011), \\&quot;Secret Love\\&quot; (2013), \\&quot;Kill Me, Heal Me\\&quot; (2015), \\&quot;Innocent Defendant\\&quot; (2017), \\&quot;Familiar Wife\\&quot; (2018), \\&quot;Doctor John\\&quot; (2019), \\&quot;The Devil Judge\\&quot; (2021) and the film \\&quot;My PS Partner\\&quot; (2012).&lt;/s&gt;&lt;s&gt;Early life. Kwak Tae-geun&#x27;s parents were both educators, and they expected him to also enter the teaching profession. But in his sophomore year in high school, his father bought him a VCR and the first movie he rented was \\&quot;Rain Man\\&quot;. Dustin Hoffman&#x27;s acting left such an impression on him that he decided to become an actor, despite his father&#x27;s objections. He later studied Theater and Film at Hanyang University.&lt;/s&gt;&lt;s&gt;Career.&lt;/s&gt;&lt;s&gt;Career.:1999\\u20132002: Beginnings. Ji Sung first auditioned for the 1999 campus drama \\&quot;KAIST\\&quot;, where he&quot;\n",
       "        },\n",
       "        {\n",
       "            &quot;title&quot;: &quot;Ji Sung&quot;,\n",
       "            &quot;text&quot;: &quot; that she&#x27;d told him her only pleasure was watching him in reruns of \\&quot;All In\\&quot;. Contrary to his cheeky, playful character, Ji Sung said that he&#x27;s taciturn and shy in real life, but that the drama made him find a different side of himself. He then made an extended cameo as the sophisticated right-hand man of the mob boss in action noir \\&quot;Fate\\&quot; (2008). In 2009, Ji Sung collaborated again with writer Choi Wan-kyu and director Yoo Chul-yong of \\&quot;All In\\&quot; in the revenge drama \\&quot;Swallow the Sun\\&quot;, adapted from the novel by Kang Chul-hwa, and shot on location in Jeju Island, Las Vegas and South Africa. Ji Sung trained hard to play the tough, strong-willed protagonist who goes to prison for his boss and later becomes involved in the city development of Jeju. In February 2010, he signed with a new management agency, Namoo Actors. Several months later, he played another historical character in \\&quot;Kim Su-ro, The Iron King\\&quot;, as the titular founder of Geumgwan Gaya. In 2011, Ji Sung starred alongside Yum Jung-ah in \\&quot;Royal Family\\&quot;, about the power plays within a chaeb&quot;\n",
       "        },\n",
       "        {\n",
       "            &quot;title&quot;: &quot;Ji Sung&quot;,\n",
       "            &quot;text&quot;: &quot;nesic prosecutor who finds himself on a death row. He received the Grand Prize award at the SBS Drama Awards. In 2018, Ji starred in the fantasy romance comedy drama \\&quot;Familiar Wife\\&quot;. The same year he starred in the period comedy film \\&quot;Feng Shui\\&quot;. In 2019, Ji starred television series \\&quot;Doctor John\\&quot;. It is his first medical drama in 11 years. In 2020, Ji appeared in tvN&#x27;s travel show \\&quot;RUN\\&quot; alongside Kang Ki-young, Lee Tae-sun and Hwang Hee. In 2021, Ji Sung starred in the mystery legal drama \\&quot;The Devil Judge\\&quot; with his previous co-star Kim Min-jung who he worked together 13 years ago in the drama \\&quot;New Heart\\&quot;. In August 2021, Namoo Actors&#x27; contract expired and Ji Sung decided not to renew it.{{Cite news|url=https://entertain.naver.com/now/read?oid=437&amp;aid=0000273351 |author= Kim Jin-seok |title=[\\ub2e8\\ub3c5]\\uc9c0\\uc131, 11\\ub144 \\uc778\\uc5f0 \\ub098\\ubb34\\uc5d1\\ud130\\uc2a4\\uc640 \\ufffd&quot;\n",
       "        },\n",
       "        {\n",
       "            &quot;title&quot;: &quot;Ji Sung&quot;,\n",
       "            &quot;text&quot;: &quot;odrama \\&quot;Secret Love\\&quot;. He said he chose the drama because he found the script \\&quot;fresh, honest, and sophisticated.\\&quot; He played a chaebol \\&quot;bad boy\\&quot; whose girlfriend is killed, then falls for the woman who went to prison for the crime. Ji Sung next appeared in \\&quot;Confession\\&quot;, a 2014 neo-noir film that brutally explores the aftermath of three men&#x27;s friendship after the death of one&#x27;s mother.&lt;/s&gt;&lt;s&gt;Career.:2015\\u2013present: Career resurgence. In 2015, he reunited with \\&quot;Secret Love\\&quot; co-star Hwang Jung-eum in \\&quot;Kill Me, Heal Me\\&quot;, in which he played a chaebol millionaire with dissociative identity disorder formerly known as Multiple Personality Disorder from DSMIV-TR who has seven different identities. The series was a hit and developed a cult following, winning Ji Sung the \\&quot;Daesang (Grand Prize)\\&quot; at the MBC Drama Awards. However, Ji&#x27;s next work \\&quot;Entertainer\\&quot;, where he played a cunning and self-centered manager of an entertainment company, failed to be successful. Ji bounced back in 2017 with legal thriller \\&quot;Innocent Defendant\\&quot;, which was a hit and topped viewership ratings. Ji earned acclaim for playing the diverse emotions of the character, an am&quot;\n",
       "        },\n",
       "        {\n",
       "            &quot;title&quot;: &quot;Ji Sung&quot;,\n",
       "            &quot;text&quot;: &quot;ol family. Later that year, he was cast in the workplace romantic comedy \\&quot;Protect the Boss\\&quot;. In a departure from his usual serious roles, Ji Sung played a dorky man-child with a panic disorder, who matures and learns to run his father&#x27;s business after meeting a feisty secretary (played by Choi Kang-hee). From 2012 to 2013, Ji Sung played a gifted seer/geomancer in \\&quot;The Great Seer\\&quot;. His fictional character becomes a \\&quot;kingmaker\\&quot; to Yi Seong-gye (played by Ji Jin-hee), the general who leads the overthrow of Goryeo and establishes the Joseon Dynasty, becoming its first king Taejo. In late 2012, he starred in adult romantic comedy \\&quot;My PS Partner\\&quot;, playing an aspiring singer-songwriter trying to get over a breakup, who becomes the wrong recipient of a phone sex call from a woman (played by Kim Ah-joong) trying to seduce her boyfriend into proposing. Ji Sung said he found the script intriguing, despite the discomfort of appearing in bed scenes. And after he saw \\&quot;Love &amp; Other Drugs\\&quot;, he wanted to be in a movie that portrayed a romantic relationship in a realistic manner. In 2013, Ji Sung starred in mel&quot;\n",
       "        }\n",
       "    ]\n",
       "}</pre>"
      ],
      "text/plain": [
       "<IPython.core.display.HTML object>"
      ]
     },
     "metadata": {},
     "output_type": "display_data"
    }
   ],
   "source": [
    "import html\n",
    "import json\n",
    "from IPython.display import display, HTML\n",
    "\n",
    "# Custom CSS to enable word wrapping for <pre> tags\n",
    "custom_css = \"\"\"\n",
    "<style>\n",
    "    pre {\n",
    "        white-space: pre-wrap;\n",
    "    }\n",
    "</style>\n",
    "\"\"\"\n",
    "\n",
    "display(HTML(custom_css))\n",
    "\n",
    "def display_json(data):\n",
    "    formatted_json = html.escape(json.dumps(data, indent=4))\n",
    "    display(HTML(f\"<pre>{formatted_json}</pre>\"))\n",
    "\n",
    "# for interactive fact testing\n",
    "file_path = \"data/passages_bm25_ChatGPT_humfacts.jsonl\"\n",
    "fact_name = \"Ji Sung is South Korean.\"\n",
    "\n",
    "t = 0.60\n",
    "result = test_fact_from_file(file_path, fact_name, threshold=t)\n",
    "display_json(result)\n"
   ]
  }
 ],
 "metadata": {
  "kernelspec": {
   "display_name": "Python 3 (ipykernel)",
   "language": "python",
   "name": "python3"
  },
  "language_info": {
   "codemirror_mode": {
    "name": "ipython",
    "version": 3
   },
   "file_extension": ".py",
   "mimetype": "text/x-python",
   "name": "python",
   "nbconvert_exporter": "python",
   "pygments_lexer": "ipython3",
   "version": "3.9.13"
  }
 },
 "nbformat": 4,
 "nbformat_minor": 4
}
