{
 "cells": [
  {
   "cell_type": "code",
   "execution_count": 1,
   "metadata": {},
   "outputs": [
    {
     "name": "stderr",
     "output_type": "stream",
     "text": [
      "c:\\Projects\\FactCheck\\factcheck_venv\\lib\\site-packages\\tqdm\\auto.py:21: TqdmWarning: IProgress not found. Please update jupyter and ipywidgets. See https://ipywidgets.readthedocs.io/en/stable/user_install.html\n",
      "  from .autonotebook import tqdm as notebook_tqdm\n",
      "[nltk_data] Downloading package stopwords to\n",
      "[nltk_data]     C:\\Users\\dgturner01\\AppData\\Roaming\\nltk_data...\n",
      "[nltk_data]   Package stopwords is already up-to-date!\n",
      "[nltk_data] Downloading package punkt to\n",
      "[nltk_data]     C:\\Users\\dgturner01\\AppData\\Roaming\\nltk_data...\n",
      "[nltk_data]   Package punkt is already up-to-date!\n"
     ]
    }
   ],
   "source": [
    "import json\n",
    "from transformers import AutoTokenizer, AutoModelForSequenceClassification\n",
    "from typing import List, Dict\n",
    "from tqdm import tqdm\n",
    "import argparse\n",
    "from factcheck import *"
   ]
  },
  {
   "cell_type": "code",
   "execution_count": 2,
   "metadata": {},
   "outputs": [
    {
     "name": "stderr",
     "output_type": "stream",
     "text": [
      "Special tokens have been added in the vocabulary, make sure the associated word embeddings are fine-tuned or trained.\n",
      "c:\\Projects\\FactCheck\\factcheck_venv\\lib\\site-packages\\transformers\\convert_slow_tokenizer.py:473: UserWarning: The sentencepiece tokenizer that you are converting to a fast tokenizer uses the byte fallback option which is not implemented in the fast tokenizers. In practice this means that the fast version of the tokenizer can produce unknown tokens whereas the sentencepiece version would have converted these unknown tokens into a sequence of byte tokens matching the original piece of text.\n",
      "  warnings.warn(\n",
      "Special tokens have been added in the vocabulary, make sure the associated word embeddings are fine-tuned or trained.\n"
     ]
    },
    {
     "name": "stdout",
     "output_type": "stream",
     "text": [
      "ENTAILMENT MODEL TYPE THIS DERIVES FROM  <class 'transformers.models.deberta_v2.modeling_deberta_v2.DebertaV2ForSequenceClassification'>\n",
      "model that is being passed in here is:  <class 'factcheck.EntailmentModel'>\n",
      "passages  [{'title': 'Lanny Flaherty', 'text': '<s>Lanny Flaherty Lanny Flaherty (born July 27, 1942) is an American actor.</s><s>Career. He has given his most memorable performances in \"Lonesome Dove\", \"Natural Born Killers\", \"\" and \"Signs\". Flaherty attended University of Southern Mississippi after high school. He also had a brief role in \"Men in Black 3\", and appeared as Jack Crow in Jim Mickles 2014 adaptation of \"Cold in July\". Other film appearances include \"Winter People\", \"Millers Crossing\", \"Blood In Blood Out\", \"Tom and Huck\" and \"Home Fries\" while television roles include guest appearances on \"The Equalizer\", \"New York News\" and \"White Collar\" as well as a 2 episode stint on \"The Education of Max Bickford\" as Whammo.</s><s>Personal life. Flaherty resides in New York City.</s>'}]\n",
      "fact  Lanny Flaherty is an American.\n",
      "INSIDE predict!!!!  Lanny Flaherty is an American.\n",
      "logits  tensor([[-1.9904,  0.0715,  1.9241]])\n",
      "prediction  {'entailment': 0.0, 'neutral': 0.1, 'contradiction': 0.8}\n",
      "cleaned_fact:  lanny flaherty american  sentence:  lanny flaherty slanny flaherty lanny flaherty born july american actorsscareer given memorable performances lonesome dove natural born killers signs flaherty attended university southern mississippi high school brief role men black appeared jack crow jim mickles adaptation cold july film appearances include winter people millers crossing blood blood tom huck home fries television roles include guest appearances equalizer new york news white collar well episode stint education max bickford whammosspersonal life flaherty resides new york citys  prediction:  {'entailment': 0.0, 'neutral': 0.1, 'contradiction': 0.8}\n",
      "result:  NS\n"
     ]
    }
   ],
   "source": [
    "model_name = \"MoritzLaurer/DeBERTa-v3-base-mnli-fever-anli\"\n",
    "ent_tokenizer = AutoTokenizer.from_pretrained(model_name)\n",
    "roberta_ent_model = AutoModelForSequenceClassification.from_pretrained(model_name)\n",
    "ent_model = EntailmentModel(roberta_ent_model, ent_tokenizer)\n",
    "fact_checker = EntailmentFactChecker(ent_model)\n",
    "\n",
    "sent1 = {\"name\": \"Lanny Flaherty\", \"sent\": \"Lanny Flaherty is an American.\", \"passages\": [{\"title\": \"Lanny Flaherty\", \"text\": \"<s>Lanny Flaherty Lanny Flaherty (born July 27, 1942) is an American actor.</s><s>Career. He has given his most memorable performances in \\\"Lonesome Dove\\\", \\\"Natural Born Killers\\\", \\\"\\\" and \\\"Signs\\\". Flaherty attended University of Southern Mississippi after high school. He also had a brief role in \\\"Men in Black 3\\\", and appeared as Jack Crow in Jim Mickles 2014 adaptation of \\\"Cold in July\\\". Other film appearances include \\\"Winter People\\\", \\\"Millers Crossing\\\", \\\"Blood In Blood Out\\\", \\\"Tom and Huck\\\" and \\\"Home Fries\\\" while television roles include guest appearances on \\\"The Equalizer\\\", \\\"New York News\\\" and \\\"White Collar\\\" as well as a 2 episode stint on \\\"The Education of Max Bickford\\\" as Whammo.</s><s>Personal life. Flaherty resides in New York City.</s>\"}]}\n",
    "sent2 = {\"name\": \"Lanny Flaherty\", \"sent\": \"Lanny Flaherty is an actor.\", \"passages\": [{\"title\": \"Lanny Flaherty\", \"text\": \"<s>Lanny Flaherty Lanny Flaherty (born July 27, 1942) is an American actor.</s><s>Career. He has given his most memorable performances in \\\"Lonesome Dove\\\", \\\"Natural Born Killers\\\", \\\"\\\" and \\\"Signs\\\". Flaherty attended University of Southern Mississippi after high school. He also had a brief role in \\\"Men in Black 3\\\", and appeared as Jack Crow in Jim Mickles 2014 adaptation of \\\"Cold in July\\\". Other film appearances include \\\"Winter People\\\", \\\"Millers Crossing\\\", \\\"Blood In Blood Out\\\", \\\"Tom and Huck\\\" and \\\"Home Fries\\\" while television roles include guest appearances on \\\"The Equalizer\\\", \\\"New York News\\\" and \\\"White Collar\\\" as well as a 2 episode stint on \\\"The Education of Max Bickford\\\" as Whammo.</s><s>Personal life. Flaherty resides in New York City.</s>\"}]}\n",
    "sent3 = {\"name\": \"Lanny Flaherty\", \"sent\": \"Lanny Flaherty was born on December 18, 1949.\", \"passages\": [{\"title\": \"Lanny Flaherty\", \"text\": \"<s>Lanny Flaherty Lanny Flaherty (born July 27, 1942) is an American actor.</s><s>Career. He has given his most memorable performances in \\\"Lonesome Dove\\\", \\\"Natural Born Killers\\\", \\\"\\\" and \\\"Signs\\\". Flaherty attended University of Southern Mississippi after high school. He also had a brief role in \\\"Men in Black 3\\\", and appeared as Jack Crow in Jim Mickles 2014 adaptation of \\\"Cold in July\\\". Other film appearances include \\\"Winter People\\\", \\\"Millers Crossing\\\", \\\"Blood In Blood Out\\\", \\\"Tom and Huck\\\" and \\\"Home Fries\\\" while television roles include guest appearances on \\\"The Equalizer\\\", \\\"New York News\\\" and \\\"White Collar\\\" as well as a 2 episode stint on \\\"The Education of Max Bickford\\\" as Whammo.</s><s>Personal life. Flaherty resides in New York City.</s>\"}]}\n",
    "sent4 = {\"name\": \"Lanny Flaherty\", \"sent\": \"Lanny Flaherty was born in Pensacola.\", \"passages\": [{\"title\": \"Lanny Flaherty\", \"text\": \"<s>Lanny Flaherty Lanny Flaherty (born July 27, 1942) is an American actor.</s><s>Career. He has given his most memorable performances in \\\"Lonesome Dove\\\", \\\"Natural Born Killers\\\", \\\"\\\" and \\\"Signs\\\". Flaherty attended University of Southern Mississippi after high school. He also had a brief role in \\\"Men in Black 3\\\", and appeared as Jack Crow in Jim Mickles 2014 adaptation of \\\"Cold in July\\\". Other film appearances include \\\"Winter People\\\", \\\"Millers Crossing\\\", \\\"Blood In Blood Out\\\", \\\"Tom and Huck\\\" and \\\"Home Fries\\\" while television roles include guest appearances on \\\"The Equalizer\\\", \\\"New York News\\\" and \\\"White Collar\\\" as well as a 2 episode stint on \\\"The Education of Max Bickford\\\" as Whammo.</s><s>Personal life. Flaherty resides in New York City.</s>\"}]}\n",
    "\n",
    "fact = \"Lanny Flaherty is an American.\"\n",
    "passages = sent1[\"passages\"] #[sent1, sent2, sent3, sent4]\n",
    "print(\"passages \", passages )\n",
    "print(\"fact \", fact)\n",
    "\n",
    "result = fact_checker.predict(fact, passages)\n",
    "\n",
    "print(\"result: \", result)\n"
   ]
  }
 ],
 "metadata": {
  "kernelspec": {
   "display_name": "factcheck_venv",
   "language": "python",
   "name": "python3"
  },
  "language_info": {
   "codemirror_mode": {
    "name": "ipython",
    "version": 3
   },
   "file_extension": ".py",
   "mimetype": "text/x-python",
   "name": "python",
   "nbconvert_exporter": "python",
   "pygments_lexer": "ipython3",
   "version": "3.9.13"
  }
 },
 "nbformat": 4,
 "nbformat_minor": 2
}
